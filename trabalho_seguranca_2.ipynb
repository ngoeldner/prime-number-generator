{
  "nbformat": 4,
  "nbformat_minor": 0,
  "metadata": {
    "colab": {
      "name": "trabalho_seguranca_2.ipynb",
      "provenance": [],
      "collapsed_sections": [
        "49879CeXBSbU",
        "HXn9eQZxBVA2",
        "1SokcydcWoSo",
        "9oc6f3VYU-0d",
        "w6CPpjB6VBVH",
        "UPYJKx8aUdlb"
      ],
      "authorship_tag": "ABX9TyOAMwhJBRS5mmoHesCcJBxj"
    },
    "kernelspec": {
      "name": "python3",
      "display_name": "Python 3"
    },
    "language_info": {
      "name": "python"
    }
  },
  "cells": [
    {
      "cell_type": "markdown",
      "metadata": {
        "id": "mp4uONhJ_-Zc"
      },
      "source": [
        "#Setup"
      ]
    },
    {
      "cell_type": "code",
      "metadata": {
        "id": "owNZMg18OMLM"
      },
      "source": [
        "import numpy as np\n",
        "import pandas as pd\n",
        "from random import randint\n",
        "import time\n",
        "import json"
      ],
      "execution_count": 41,
      "outputs": []
    },
    {
      "cell_type": "code",
      "metadata": {
        "colab": {
          "base_uri": "https://localhost:8080/"
        },
        "id": "Uu0n_OSJty6j",
        "outputId": "06eb38c4-5f38-48a9-a144-c52dbdf25b23"
      },
      "source": [
        "!unzip primes.csv.zip"
      ],
      "execution_count": 42,
      "outputs": [
        {
          "output_type": "stream",
          "text": [
            "Archive:  primes.csv.zip\n",
            "replace 1m.csv? [y]es, [n]o, [A]ll, [N]one, [r]ename: y\n",
            "  inflating: 1m.csv                  \n"
          ],
          "name": "stdout"
        }
      ]
    },
    {
      "cell_type": "code",
      "metadata": {
        "id": "NZzvC__SueLC"
      },
      "source": [
        "m_primes_pd = pd.read_csv('primes.csv.zip')\n",
        "m_primes_series = m_primes_pd['Num']\n",
        "m_primes_np = m_primes_series.to_numpy()\n",
        "prime_list_1000 = [2,3,5,7,11,13,17,19,23,29,31,37,41,43,47,53,59,61,67,71,73,79,83,89,97,101,103,107,109,113,127,131,137,139,149,151,157,163,167,173,179,181,191,193,197,199,211,223,227,229,233,239,241,251,257,263,269,271,277,281,283,293,307,311,313,317,331,337,347,349,353,359,367,373,379,383,389,397,401,409,419,421,431,433,439,443,449,457,461,463,467,479,487,491,499,503,509,521,523,541,547,557,563,569,571,577,587,593,599,601,607,613,617,619,631,641,643,647,653,659,661,673,677,683,691,701,709,719,727,733,739,743,751,757,761,769,773,787,797,809,811,821,823,827,829,839,853,857,859,863,877,881,883,887,907,911,919,929,937,941,947,953,967,971,977,983,991,997,1009,1013,1019,1021,1031,1033,1039,1049,1051,1061,1063,1069,1087,1091,1093,1097,1103,1109,1117,1123,1129,1151,1153,1163,1171,1181,1187,1193,1201,1213,1217,1223,1229,1231,1237,1249,1259,1277,1279,1283,1289,1291,1297,1301,1303,1307,1319,1321,1327,1361,1367,1373,1381,1399,1409,1423,1427,1429,1433,1439,1447,1451,1453,1459,1471,1481,1483,1487,1489,1493,1499,1511,1523,1531,1543,1549,1553,1559,1567,1571,1579,1583,1597,1601,1607,1609,1613,1619,1621,1627,1637,1657,1663,1667,1669,1693,1697,1699,1709,1721,1723,1733,1741,1747,1753,1759,1777,1783,1787,1789,1801,1811,1823,1831,1847,1861,1867,1871,1873,1877,1879,1889,1901,1907,1913,1931,1933,1949,1951,1973,1979,1987,1993,1997,1999,2003,2011,2017,2027,2029,2039,2053,2063,2069,2081,2083,2087,2089,2099,2111,2113,2129,2131,2137,2141,2143,2153,2161,2179,2203,2207,2213,2221,2237,2239,2243,2251,2267,2269,2273,2281,2287,2293,2297,2309,2311,2333,2339,2341,2347,2351,2357,2371,2377,2381,2383,2389,2393,2399,2411,2417,2423,2437,2441,2447,2459,2467,2473,2477,2503,2521,2531,2539,2543,2549,2551,2557,2579,2591,2593,2609,2617,2621,2633,2647,2657,2659,2663,2671,2677,2683,2687,2689,2693,2699,2707,2711,2713,2719,2729,2731,2741,2749,2753,2767,2777,2789,2791,2797,2801,2803,2819,2833,2837,2843,2851,2857,2861,2879,2887,2897,2903,2909,2917,2927,2939,2953,2957,2963,2969,2971,2999,3001,3011,3019,3023,3037,3041,3049,3061,3067,3079,3083,3089,3109,3119,3121,3137,3163,3167,3169,3181,3187,3191,3203,3209,3217,3221,3229,3251,3253,3257,3259,3271,3299,3301,3307,3313,3319,3323,3329,3331,3343,3347,3359,3361,3371,3373,3389,3391,3407,3413,3433,3449,3457,3461,3463,3467,3469,3491,3499,3511,3517,3527,3529,3533,3539,3541,3547,3557,3559,3571,3581,3583,3593,3607,3613,3617,3623,3631,3637,3643,3659,3671,3673,3677,3691,3697,3701,3709,3719,3727,3733,3739,3761,3767,3769,3779,3793,3797,3803,3821,3823,3833,3847,3851,3853,3863,3877,3881,3889,3907,3911,3917,3919,3923,3929,3931,3943,3947,3967,3989,4001,4003,4007,4013,4019,4021,4027,4049,4051,4057,4073,4079,4091,4093,4099,4111,4127,4129,4133,4139,4153,4157,4159,4177,4201,4211,4217,4219,4229,4231,4241,4243,4253,4259,4261,4271,4273,4283,4289,4297,4327,4337,4339,4349,4357,4363,4373,4391,4397,4409,4421,4423,4441,4447,4451,4457,4463,4481,4483,4493,4507,4513,4517,4519,4523,4547,4549,4561,4567,4583,4591,4597,4603,4621,4637,4639,4643,4649,4651,4657,4663,4673,4679,4691,4703,4721,4723,4729,4733,4751,4759,4783,4787,4789,4793,4799,4801,4813,4817,4831,4861,4871,4877,4889,4903,4909,4919,4931,4933,4937,4943,4951,4957,4967,4969,4973,4987,4993,4999,5003,5009,5011,5021,5023,5039,5051,5059,5077,5081,5087,5099,5101,5107,5113,5119,5147,5153,5167,5171,5179,5189,5197,5209,5227,5231,5233,5237,5261,5273,5279,5281,5297,5303,5309,5323,5333,5347,5351,5381,5387,5393,5399,5407,5413,5417,5419,5431,5437,5441,5443,5449,5471,5477,5479,5483,5501,5503,5507,5519,5521,5527,5531,5557,5563,5569,5573,5581,5591,5623,5639,5641,5647,5651,5653,5657,5659,5669,5683,5689,5693,5701,5711,5717,5737,5741,5743,5749,5779,5783,5791,5801,5807,5813,5821,5827,5839,5843,5849,5851,5857,5861,5867,5869,5879,5881,5897,5903,5923,5927,5939,5953,5981,5987,6007,6011,6029,6037,6043,6047,6053,6067,6073,6079,6089,6091,6101,6113,6121,6131,6133,6143,6151,6163,6173,6197,6199,6203,6211,6217,6221,6229,6247,6257,6263,6269,6271,6277,6287,6299,6301,6311,6317,6323,6329,6337,6343,6353,6359,6361,6367,6373,6379,6389,6397,6421,6427,6449,6451,6469,6473,6481,6491,6521,6529,6547,6551,6553,6563,6569,6571,6577,6581,6599,6607,6619,6637,6653,6659,6661,6673,6679,6689,6691,6701,6703,6709,6719,6733,6737,6761,6763,6779,6781,6791,6793,6803,6823,6827,6829,6833,6841,6857,6863,6869,6871,6883,6899,6907,6911,6917,6947,6949,6959,6961,6967,6971,6977,6983,6991,6997,7001,7013,7019,7027,7039,7043,7057,7069,7079,7103,7109,7121,7127,7129,7151,7159,7177,7187,7193,7207,7211,7213,7219,7229,7237,7243,7247,7253,7283,7297,7307,7309,7321,7331,7333,7349,7351,7369,7393,7411,7417,7433,7451,7457,7459,7477,7481,7487,7489,7499,7507,7517,7523,7529,7537,7541,7547,7549,7559,7561,7573,7577,7583,7589,7591,7603,7607,7621,7639,7643,7649,7669,7673,7681,7687,7691,7699,7703,7717,7723,7727,7741,7753,7757,7759,7789,7793,7817,7823,7829,7841,7853,7867,7873,7877,7879,7883,7901,7907,7919]\n"
      ],
      "execution_count": 43,
      "outputs": []
    },
    {
      "cell_type": "code",
      "metadata": {
        "id": "e00hsHXy_uM3"
      },
      "source": [
        "bit_len_list = [10, 20, 40, 56, 80, 128, 168, 224, 256, 512, 1024, 2048, 4096]"
      ],
      "execution_count": 44,
      "outputs": []
    },
    {
      "cell_type": "code",
      "metadata": {
        "id": "oJ2eHO12-J4z"
      },
      "source": [
        "def bits(n):\n",
        "  return len(bin(n))-2"
      ],
      "execution_count": 45,
      "outputs": []
    },
    {
      "cell_type": "code",
      "metadata": {
        "id": "jQsY10xm_7Wj"
      },
      "source": [
        "# or_mask to force the generation of primes with bit_len bits \n",
        "or_mask = dict()\n",
        "for bit_len in bit_len_list:\n",
        "  string = '0b1'\n",
        "  for i in range(bit_len-1):\n",
        "    string += '0'\n",
        "  or_mask[bit_len] = eval(string)\n"
      ],
      "execution_count": 46,
      "outputs": []
    },
    {
      "cell_type": "markdown",
      "metadata": {
        "id": "AZEaDOscBId3"
      },
      "source": [
        "#Random Number Generators"
      ]
    },
    {
      "cell_type": "markdown",
      "metadata": {
        "id": "49879CeXBSbU"
      },
      "source": [
        "##Linear Congruential Generator"
      ]
    },
    {
      "cell_type": "code",
      "metadata": {
        "id": "eNJfcYTIHHHa"
      },
      "source": [
        "# parameters\n",
        "lcg_param = dict()\n",
        "for bit_len in bit_len_list:\n",
        "  lcg_param[bit_len] = (4 * pow(2,bit_len-8) + 1, pow(2,bit_len-8)+1, pow(2, bit_len))\n",
        "\n",
        "lcg_x = 1\n",
        "lcg_a = 1\n",
        "lcg_b = 1\n",
        "lcg_m = 1"
      ],
      "execution_count": 47,
      "outputs": []
    },
    {
      "cell_type": "code",
      "metadata": {
        "id": "HOsqhmZBQnxz"
      },
      "source": [
        "# seeds\n",
        "predefined_seeds = dict()\n",
        "for bit_len in bit_len_list:\n",
        "  string = '0b'\n",
        "  for i in range(bit_len):\n",
        "    if i % 2 == 0:\n",
        "      string += '1'\n",
        "    else:\n",
        "      string += '0' \n",
        "  predefined_seeds[bit_len] = eval(string)"
      ],
      "execution_count": 48,
      "outputs": []
    },
    {
      "cell_type": "code",
      "metadata": {
        "id": "M4Zss96vGQZ6"
      },
      "source": [
        "# you need to reset lcg if you want to change the seed or the bit_len\n",
        "def reset_lcg(seed, n):\n",
        "  global lcg_x\n",
        "  global lcg_a\n",
        "  global lcg_b\n",
        "  global lcg_m\n",
        "  lcg_x = seed\n",
        "  lcg_a = lcg_param[n][0]\n",
        "  lcg_b = lcg_param[n][1]\n",
        "  lcg_m = lcg_param[n][2]"
      ],
      "execution_count": 49,
      "outputs": []
    },
    {
      "cell_type": "code",
      "metadata": {
        "id": "2Y0RcOcjBUJq"
      },
      "source": [
        "def lcg():\n",
        "  global lcg_x\n",
        "  global lcg_a\n",
        "  global lcg_b\n",
        "  global lcg_m\n",
        "  lcg_x = ((lcg_x * lcg_a) + lcg_b) % lcg_m\n",
        "  return lcg_x"
      ],
      "execution_count": 50,
      "outputs": []
    },
    {
      "cell_type": "code",
      "metadata": {
        "id": "x7jHVFjOIGRF"
      },
      "source": [
        "reset_lcg(predefined_seeds[20], 20)"
      ],
      "execution_count": 51,
      "outputs": []
    },
    {
      "cell_type": "code",
      "metadata": {
        "colab": {
          "base_uri": "https://localhost:8080/"
        },
        "id": "NtNvIW5yINZV",
        "outputId": "b884ba7d-d48c-47f3-cc9a-d0419855ce87"
      },
      "source": [
        "# test if params were correctly chosen in order to reach m period\n",
        "lcg()\n",
        "rng = pow(2,20)\n",
        "gen_nums = np.zeros((rng), dtype=np.int32)\n",
        "for i in range(rng):\n",
        "  lcg()\n",
        "  gen_nums[lcg_x] += 1\n",
        "gen_nums_pd = pd.Series(gen_nums)\n",
        "print(gen_nums_pd.value_counts())"
      ],
      "execution_count": 52,
      "outputs": [
        {
          "output_type": "stream",
          "text": [
            "1    1048576\n",
            "dtype: int64\n"
          ],
          "name": "stdout"
        }
      ]
    },
    {
      "cell_type": "code",
      "metadata": {
        "id": "3p2X-Gk-21GC"
      },
      "source": [
        "# check some values\n",
        "reset_lcg(predefined_seeds[256],256)"
      ],
      "execution_count": 53,
      "outputs": []
    },
    {
      "cell_type": "code",
      "metadata": {
        "colab": {
          "base_uri": "https://localhost:8080/"
        },
        "id": "GsGiQzu327gT",
        "outputId": "c15ed4e4-7c65-4fe3-b90c-ffd2ab4e6645"
      },
      "source": [
        "lcg()"
      ],
      "execution_count": 56,
      "outputs": [
        {
          "output_type": "execute_result",
          "data": {
            "text/plain": [
              "80360916098293661667660592460456581882542840920294818532592307651325127731885"
            ]
          },
          "metadata": {
            "tags": []
          },
          "execution_count": 56
        }
      ]
    },
    {
      "cell_type": "markdown",
      "metadata": {
        "id": "HXn9eQZxBVA2"
      },
      "source": [
        "##Lagged Fibonacci Generator"
      ]
    },
    {
      "cell_type": "code",
      "metadata": {
        "id": "4zEVgI0t72UG"
      },
      "source": [
        "# some parameters options\n",
        "lfg_list = list()\n",
        "lfg_j = 7\n",
        "lfg_k = 10\n",
        "lfg_m = 1\n",
        "good_lfg_j = 9739\n",
        "good_lfg_k = 23209\n",
        "good_small_j = 418\n",
        "good_small_k = 1279\n",
        "for i in range(lfg_k):\n",
        "  lfg_list.append(1)"
      ],
      "execution_count": 57,
      "outputs": []
    },
    {
      "cell_type": "code",
      "metadata": {
        "id": "sk4dgRkSqyMo"
      },
      "source": [
        "# you need to reset lfg if you want to change the seed, bit_len or paramenters\n",
        "def reset_lfg(seed, n, j, k):\n",
        "  global lfg_list\n",
        "  global lfg_m\n",
        "  global lfg_j\n",
        "  global lfg_k\n",
        "  lfg_j = j\n",
        "  lfg_k = k\n",
        "  lfg_list = list()\n",
        "  lfg_m = pow(2, n)\n",
        "  reset_lcg(predefined_seeds[n], n)\n",
        "  for i in range(lfg_k):\n",
        "    lfg_list.append((lcg() + seed) % lfg_m) \n",
        "  lfg_list[0] |= 1 #at least one number need to be odd"
      ],
      "execution_count": 58,
      "outputs": []
    },
    {
      "cell_type": "code",
      "metadata": {
        "id": "pBx6vncqsKjz"
      },
      "source": [
        "def lfg():\n",
        "  global lfg_j\n",
        "  global lfg_k\n",
        "  global lfg_m\n",
        "  global lfg_list\n",
        "  new_value = (lfg_list[lfg_k - lfg_j - 1] + lfg_list[0]) % lfg_m\n",
        "  lfg_list.append(new_value)\n",
        "  lfg_list.pop(0)\n",
        "  return lfg_list[-1]"
      ],
      "execution_count": 59,
      "outputs": []
    },
    {
      "cell_type": "code",
      "metadata": {
        "id": "bdJB2co9r8F4"
      },
      "source": [
        "reset_lfg(123, 10, 7, 10)\n",
        "# reset_lfg(123, 10, 9739, 23209)"
      ],
      "execution_count": 60,
      "outputs": []
    },
    {
      "cell_type": "code",
      "metadata": {
        "colab": {
          "base_uri": "https://localhost:8080/"
        },
        "id": "gAA9dBZUrovO",
        "outputId": "f6fc3cc6-2311-4585-ff24-f570e87da452"
      },
      "source": [
        "print(lfg_list)\n",
        "lfg()\n",
        "print(lfg_list)"
      ],
      "execution_count": 61,
      "outputs": [
        {
          "output_type": "stream",
          "text": [
            "[459, 703, 772, 921, 382, 435, 312, 269, 562, 423]\n",
            "[703, 772, 921, 382, 435, 312, 269, 562, 423, 207]\n"
          ],
          "name": "stdout"
        }
      ]
    },
    {
      "cell_type": "code",
      "metadata": {
        "id": "oxSEdQJWxRA-"
      },
      "source": [
        "reset_lcg(predefined_seeds[20], 20)\n",
        "reset_lfg(123, 20, good_lfg_j, good_lfg_k)"
      ],
      "execution_count": 62,
      "outputs": []
    },
    {
      "cell_type": "code",
      "metadata": {
        "colab": {
          "base_uri": "https://localhost:8080/"
        },
        "id": "x2HtOjHEv8x1",
        "outputId": "eb6fcd39-27a0-4387-adfc-68b53ed477c7"
      },
      "source": [
        "# test if gen numbers are well distributed\n",
        "rng = pow(2,20)\n",
        "gen_nums = np.zeros((rng), dtype=np.int32)\n",
        "for i in range(rng*2):\n",
        "  gen_nums[lfg()] += 1\n",
        "gen_nums_pd = pd.Series(gen_nums)\n",
        "print(gen_nums_pd.value_counts())"
      ],
      "execution_count": 63,
      "outputs": [
        {
          "output_type": "stream",
          "text": [
            "2     283957\n",
            "1     283829\n",
            "3     189478\n",
            "0     141771\n",
            "4      94340\n",
            "5      37845\n",
            "6      12557\n",
            "7       3613\n",
            "8        958\n",
            "9        189\n",
            "10        37\n",
            "11         2\n",
            "dtype: int64\n"
          ],
          "name": "stdout"
        }
      ]
    },
    {
      "cell_type": "markdown",
      "metadata": {
        "id": "1SokcydcWoSo"
      },
      "source": [
        "##Time measurements"
      ]
    },
    {
      "cell_type": "code",
      "metadata": {
        "id": "sZlkUNFsWwK1"
      },
      "source": [
        "times_np = np.zeros((len(bit_len_list), 2))\n",
        "it = -1\n",
        "for bit_len in bit_len_list:\n",
        "  it+=1\n",
        "  reset_lcg(predefined_seeds[bit_len], bit_len)\n",
        "  start = time.time()\n",
        "  for i in range(10000):\n",
        "    lcg()\n",
        "  end = time.time()\n",
        "  times_np[it][0] = end-start\n",
        "\n",
        "it = -1\n",
        "for bit_len in bit_len_list:\n",
        "  it+=1\n",
        "  reset_lfg(12, bit_len, good_small_j, good_small_k)\n",
        "  start = time.time()\n",
        "  for i in range(10000):\n",
        "    lfg()\n",
        "  end = time.time()\n",
        "  times_np[it][1] = end-start \n",
        "\n"
      ],
      "execution_count": 64,
      "outputs": []
    },
    {
      "cell_type": "code",
      "metadata": {
        "colab": {
          "base_uri": "https://localhost:8080/",
          "height": 452
        },
        "id": "SnUb3p1QYdpK",
        "outputId": "f820f133-5ed4-4cef-e28a-21caca738f43"
      },
      "source": [
        "times_pd = pd.DataFrame(times_np, index=bit_len_list, columns=['lcg','lfg'])\n",
        "times_pd"
      ],
      "execution_count": 65,
      "outputs": [
        {
          "output_type": "execute_result",
          "data": {
            "text/html": [
              "<div>\n",
              "<style scoped>\n",
              "    .dataframe tbody tr th:only-of-type {\n",
              "        vertical-align: middle;\n",
              "    }\n",
              "\n",
              "    .dataframe tbody tr th {\n",
              "        vertical-align: top;\n",
              "    }\n",
              "\n",
              "    .dataframe thead th {\n",
              "        text-align: right;\n",
              "    }\n",
              "</style>\n",
              "<table border=\"1\" class=\"dataframe\">\n",
              "  <thead>\n",
              "    <tr style=\"text-align: right;\">\n",
              "      <th></th>\n",
              "      <th>lcg</th>\n",
              "      <th>lfg</th>\n",
              "    </tr>\n",
              "  </thead>\n",
              "  <tbody>\n",
              "    <tr>\n",
              "      <th>10</th>\n",
              "      <td>0.003218</td>\n",
              "      <td>0.008359</td>\n",
              "    </tr>\n",
              "    <tr>\n",
              "      <th>20</th>\n",
              "      <td>0.003759</td>\n",
              "      <td>0.007741</td>\n",
              "    </tr>\n",
              "    <tr>\n",
              "      <th>40</th>\n",
              "      <td>0.004498</td>\n",
              "      <td>0.012854</td>\n",
              "    </tr>\n",
              "    <tr>\n",
              "      <th>56</th>\n",
              "      <td>0.004488</td>\n",
              "      <td>0.008686</td>\n",
              "    </tr>\n",
              "    <tr>\n",
              "      <th>80</th>\n",
              "      <td>0.004739</td>\n",
              "      <td>0.008560</td>\n",
              "    </tr>\n",
              "    <tr>\n",
              "      <th>128</th>\n",
              "      <td>0.005755</td>\n",
              "      <td>0.008665</td>\n",
              "    </tr>\n",
              "    <tr>\n",
              "      <th>168</th>\n",
              "      <td>0.006442</td>\n",
              "      <td>0.008772</td>\n",
              "    </tr>\n",
              "    <tr>\n",
              "      <th>224</th>\n",
              "      <td>0.008214</td>\n",
              "      <td>0.009646</td>\n",
              "    </tr>\n",
              "    <tr>\n",
              "      <th>256</th>\n",
              "      <td>0.008390</td>\n",
              "      <td>0.008943</td>\n",
              "    </tr>\n",
              "    <tr>\n",
              "      <th>512</th>\n",
              "      <td>0.016778</td>\n",
              "      <td>0.009471</td>\n",
              "    </tr>\n",
              "    <tr>\n",
              "      <th>1024</th>\n",
              "      <td>0.044447</td>\n",
              "      <td>0.010116</td>\n",
              "    </tr>\n",
              "    <tr>\n",
              "      <th>2048</th>\n",
              "      <td>0.149455</td>\n",
              "      <td>0.011984</td>\n",
              "    </tr>\n",
              "    <tr>\n",
              "      <th>4096</th>\n",
              "      <td>0.469128</td>\n",
              "      <td>0.014240</td>\n",
              "    </tr>\n",
              "  </tbody>\n",
              "</table>\n",
              "</div>"
            ],
            "text/plain": [
              "           lcg       lfg\n",
              "10    0.003218  0.008359\n",
              "20    0.003759  0.007741\n",
              "40    0.004498  0.012854\n",
              "56    0.004488  0.008686\n",
              "80    0.004739  0.008560\n",
              "128   0.005755  0.008665\n",
              "168   0.006442  0.008772\n",
              "224   0.008214  0.009646\n",
              "256   0.008390  0.008943\n",
              "512   0.016778  0.009471\n",
              "1024  0.044447  0.010116\n",
              "2048  0.149455  0.011984\n",
              "4096  0.469128  0.014240"
            ]
          },
          "metadata": {
            "tags": []
          },
          "execution_count": 65
        }
      ]
    },
    {
      "cell_type": "markdown",
      "metadata": {
        "id": "wyltgboDSstp"
      },
      "source": [
        "#Primality Test"
      ]
    },
    {
      "cell_type": "markdown",
      "metadata": {
        "id": "9oc6f3VYU-0d"
      },
      "source": [
        "##Miller-Rabin"
      ]
    },
    {
      "cell_type": "code",
      "metadata": {
        "id": "9FQT1UOEVAPq"
      },
      "source": [
        "def miller_rabin(n, k):\n",
        "  if n == 3 or n == 2:\n",
        "    return True\n",
        "  if n % 2 == 0 or n == 1:\n",
        "    return False\n",
        "  \n",
        "  d = n-1\n",
        "  l = 0\n",
        "  while d % 2 == 0:\n",
        "    l += 1\n",
        "    d //= 2\n",
        "  \n",
        "  # print(\"d:{}; l:{};\".format(d,l))\n",
        "  for i in range(k):\n",
        "    # print('i:{}'.format(i))\n",
        "    a = randint(2, n-2)\n",
        "    x = pow(a, d, n)\n",
        "    # print('a:{};  x:{}'.format(a,x))\n",
        "    if x == 1 or x == n-1:\n",
        "      continue\n",
        "    for j in range(l-1):\n",
        "      x = pow(x, 2, n)\n",
        "      if x == n-1:\n",
        "        break\n",
        "    else:\n",
        "      return False\n",
        "  return True\n"
      ],
      "execution_count": 84,
      "outputs": []
    },
    {
      "cell_type": "code",
      "metadata": {
        "colab": {
          "base_uri": "https://localhost:8080/"
        },
        "id": "mvp-S5OBksJp",
        "outputId": "d1ee4616-7e39-4687-b744-b452fe3d8f48"
      },
      "source": [
        "miller_rabin(5,10)"
      ],
      "execution_count": 86,
      "outputs": [
        {
          "output_type": "execute_result",
          "data": {
            "text/plain": [
              "True"
            ]
          },
          "metadata": {
            "tags": []
          },
          "execution_count": 86
        }
      ]
    },
    {
      "cell_type": "markdown",
      "metadata": {
        "id": "wuwubuM3tlHu"
      },
      "source": [
        "###Tests"
      ]
    },
    {
      "cell_type": "code",
      "metadata": {
        "colab": {
          "base_uri": "https://localhost:8080/"
        },
        "id": "bbJWYGhkpO0V",
        "outputId": "b801d4ea-4663-4c70-9135-eb89b0edc1b4"
      },
      "source": [
        "for prime in prime_list_1000:\n",
        "  if not miller_rabin(prime, 10):\n",
        "    print('error prime:')\n",
        "    print(prime)\n",
        "    break\n",
        "else:\n",
        "  print(\"all primes were correctly identified\")"
      ],
      "execution_count": 88,
      "outputs": [
        {
          "output_type": "stream",
          "text": [
            "all primes were correctly identified\n"
          ],
          "name": "stdout"
        }
      ]
    },
    {
      "cell_type": "code",
      "metadata": {
        "id": "7uBlC_m8sEy8"
      },
      "source": [
        "for i in range(0, prime_list_1000[-1]):\n",
        "  if i not in prime_list_1000:\n",
        "    if miller_rabin(i,10):\n",
        "      print(\"not prime classified as prime\")\n",
        "      print(i)\n",
        "  else:\n",
        "    if not miller_rabin(i,10):\n",
        "      print(\"prime classified as not prime\")\n",
        "      print(i)\n"
      ],
      "execution_count": 90,
      "outputs": []
    },
    {
      "cell_type": "code",
      "metadata": {
        "colab": {
          "base_uri": "https://localhost:8080/"
        },
        "id": "RLGTx9Nizbu4",
        "outputId": "a1c83de0-a692-449d-e0b7-b68d4579b4f5"
      },
      "source": [
        "for i in range(80000):\n",
        "  prime = int(m_primes_series[i])\n",
        "  if not miller_rabin(prime, 10):\n",
        "    print('error prime:')\n",
        "    print(prime)\n",
        "    break\n",
        "else:\n",
        "  print(\"all primes were correctly identified\")"
      ],
      "execution_count": 91,
      "outputs": [
        {
          "output_type": "stream",
          "text": [
            "all primes were correctly identified\n"
          ],
          "name": "stdout"
        }
      ]
    },
    {
      "cell_type": "markdown",
      "metadata": {
        "id": "w6CPpjB6VBVH"
      },
      "source": [
        "##Fermat's test"
      ]
    },
    {
      "cell_type": "code",
      "metadata": {
        "id": "R_Ky4bDiTRQp"
      },
      "source": [
        "def fermat(p, k=20):\n",
        "  if p == 2 or p == 3:\n",
        "\t  return True\n",
        "  if p % 2 == 0 or p == 1:\n",
        "    return False\n",
        "  for i in range(k):\n",
        "    a = randint(2,p-2)\n",
        "    if pow(a, p-1, p) == 1:\n",
        "      pass # can be prime\n",
        "    else:\n",
        "      return False\n",
        "  return True"
      ],
      "execution_count": 92,
      "outputs": []
    },
    {
      "cell_type": "markdown",
      "metadata": {
        "id": "UPYJKx8aUdlb"
      },
      "source": [
        "###Tests"
      ]
    },
    {
      "cell_type": "code",
      "metadata": {
        "colab": {
          "base_uri": "https://localhost:8080/"
        },
        "id": "nSMvE53PUdlc",
        "outputId": "646b9c9b-f2f3-4d39-de6a-e8e2fecd3860"
      },
      "source": [
        "for prime in prime_list_1000:\n",
        "  if not fermat(prime):\n",
        "    print('error prime:')\n",
        "    print(prime)\n",
        "    break\n",
        "else:\n",
        "  print(\"all primes were correctly identified\")"
      ],
      "execution_count": 93,
      "outputs": [
        {
          "output_type": "stream",
          "text": [
            "all primes were correctly identified\n"
          ],
          "name": "stdout"
        }
      ]
    },
    {
      "cell_type": "code",
      "metadata": {
        "id": "bJg7GugHUdlg"
      },
      "source": [
        "for i in range(0, prime_list_1000[-1]):\n",
        "  if i not in prime_list_1000:\n",
        "    if fermat(i,20):\n",
        "      print(\"not prime classified as prime\")\n",
        "      print(i)\n",
        "  else:\n",
        "    if not fermat(i,20):\n",
        "      print(\"prime classified as not prime\")\n",
        "      print(i)\n"
      ],
      "execution_count": 94,
      "outputs": []
    },
    {
      "cell_type": "code",
      "metadata": {
        "colab": {
          "base_uri": "https://localhost:8080/"
        },
        "id": "0An8pd-iUdlh",
        "outputId": "c1f708ed-36a9-40d9-9973-28c7e1fcfa0f"
      },
      "source": [
        "for i in range(80000):\n",
        "  prime = int(m_primes_series[i])\n",
        "  if not fermat(prime, 20):\n",
        "    print('error prime:')\n",
        "    print(prime)\n",
        "    break\n",
        "else:\n",
        "  print(\"all primes were correctly identified\")"
      ],
      "execution_count": 95,
      "outputs": [
        {
          "output_type": "stream",
          "text": [
            "all primes were correctly identified\n"
          ],
          "name": "stdout"
        }
      ]
    },
    {
      "cell_type": "markdown",
      "metadata": {
        "id": "uWA3shUE53Vx"
      },
      "source": [
        "#Generate prime numbers"
      ]
    },
    {
      "cell_type": "code",
      "metadata": {
        "id": "dKkcJVof6HM5"
      },
      "source": [
        "lcg_miller_rabin = dict()\n",
        "lfg_miller_rabin = dict()\n",
        "lcg_fermat = dict()\n",
        "lfg_fermat = dict()\n",
        "prime_generators = [lcg_miller_rabin, lfg_miller_rabin, lcg_fermat, lfg_fermat]\n",
        "# prime_generators = [lcg_fermat, lfg_fermat]\n",
        "for prime_generator in prime_generators:\n",
        "  for bit_len in bit_len_list:\n",
        "    prime_generator[bit_len] = dict()\n",
        "    prime_generator[bit_len]['it'] = list()\n",
        "    prime_generator[bit_len]['time'] = list()\n",
        "    prime_generator[bit_len]['gen_number'] = list()"
      ],
      "execution_count": 104,
      "outputs": []
    },
    {
      "cell_type": "code",
      "metadata": {
        "colab": {
          "base_uri": "https://localhost:8080/"
        },
        "id": "AIkDOONA25qk",
        "outputId": "bd58bc15-3c1a-4081-bfef-4012e59af24b"
      },
      "source": [
        "bit_len_list[:10]"
      ],
      "execution_count": 105,
      "outputs": [
        {
          "output_type": "execute_result",
          "data": {
            "text/plain": [
              "[10, 20, 40, 56, 80, 128, 168, 224, 256, 512]"
            ]
          },
          "metadata": {
            "tags": []
          },
          "execution_count": 105
        }
      ]
    },
    {
      "cell_type": "code",
      "metadata": {
        "id": "09_3kQAz0kaV"
      },
      "source": [
        "# here 10 prime numbers with size [10, 20, 40, 56, 80, 128, 168, 224, 256, 512] are generated\n",
        "for prime_generator in prime_generators:\n",
        "  for bit_len in bit_len_list[:10]:\n",
        "    reset_lcg(predefined_seeds[bit_len], bit_len)\n",
        "    reset_lfg(12, bit_len, good_small_j, good_small_k)\n",
        "    for i in range(10):\n",
        "      it = 0\n",
        "      gen_number = 0\n",
        "      start = time.time()\n",
        "      while True:\n",
        "        it+=1\n",
        "        if prime_generator is lcg_miller_rabin or prime_generator is lcg_fermat:\n",
        "          gen_number = lcg()\n",
        "        else:\n",
        "          gen_number = lfg()\n",
        "        gen_number |= or_mask[bit_len] #make sure that gen_number has the wanted len \n",
        "        is_prime = False\n",
        "        if prime_generator is lcg_fermat or prime_generator is lfg_fermat:\n",
        "          is_prime = fermat(gen_number)\n",
        "        else:\n",
        "          is_prime = miller_rabin(gen_number, 30)\n",
        "        if is_prime:\n",
        "          break\n",
        "      end = time.time()\n",
        "      prime_generator[bit_len]['it'].append(it)\n",
        "      prime_generator[bit_len]['time'].append(end-start)\n",
        "      prime_generator[bit_len]['gen_number'].append(gen_number)\n",
        "    prime_generator[bit_len]['avg_it'] = sum(prime_generator[bit_len]['it'])/10\n",
        "    prime_generator[bit_len]['avg_time'] = sum(prime_generator[bit_len]['time'])/10"
      ],
      "execution_count": 106,
      "outputs": []
    },
    {
      "cell_type": "code",
      "metadata": {
        "colab": {
          "base_uri": "https://localhost:8080/"
        },
        "id": "fSB8y-k1CPy0",
        "outputId": "d34004bc-f452-4d3f-d688-8a4a379038dc"
      },
      "source": [
        "# here [10, 4, 2] prime numbers with size [1024, 2048, 4096] are generated\n",
        "rngs = [10, 4, 2]\n",
        "for prime_generator in prime_generators:\n",
        "  rng_it = -1\n",
        "  for bit_len in bit_len_list[10:]:\n",
        "    rng_it+=1\n",
        "    reset_lcg(predefined_seeds[bit_len], bit_len)\n",
        "    reset_lfg(12, bit_len, good_small_j, good_small_k)\n",
        "    for i in range(rngs[rng_it]):\n",
        "      it = 0\n",
        "      gen_number = 0\n",
        "      start = time.time()\n",
        "      while True:\n",
        "        it+=1\n",
        "        if prime_generator is lcg_miller_rabin or prime_generator is lcg_fermat:\n",
        "          gen_number = lcg()\n",
        "        else:\n",
        "          gen_number = lfg()\n",
        "        gen_number |= or_mask[bit_len]\n",
        "        is_prime = False\n",
        "        if prime_generator is lcg_fermat or prime_generator is lfg_fermat:\n",
        "          is_prime = fermat(gen_number)\n",
        "        else:\n",
        "          is_prime = miller_rabin(gen_number, 30)\n",
        "        if is_prime:\n",
        "          break\n",
        "      end = time.time()\n",
        "      prime_generator[bit_len]['it'].append(it)\n",
        "      prime_generator[bit_len]['time'].append(end-start)\n",
        "      print(it)\n",
        "      print(end-start)\n",
        "      prime_generator[bit_len]['gen_number'].append(gen_number)\n",
        "    prime_generator[bit_len]['avg_it'] = sum(prime_generator[bit_len]['it'])/rngs[rng_it]\n",
        "    prime_generator[bit_len]['avg_time'] = sum(prime_generator[bit_len]['time'])/rngs[rng_it]"
      ],
      "execution_count": null,
      "outputs": [
        {
          "output_type": "stream",
          "text": [
            "3030\n",
            "8.215572595596313\n",
            "126\n",
            "0.49893760681152344\n",
            "228\n",
            "0.7656691074371338\n",
            "270\n",
            "0.869361400604248\n",
            "520\n",
            "1.5474567413330078\n",
            "1082\n",
            "3.0219736099243164\n",
            "1754\n",
            "4.814330816268921\n",
            "296\n",
            "0.9462795257568359\n",
            "654\n",
            "1.9119107723236084\n",
            "832\n",
            "2.36445951461792\n",
            "1996\n",
            "35.55716156959534\n",
            "842\n",
            "15.598204851150513\n",
            "496\n",
            "9.619163274765015\n",
            "6538\n",
            "114.18099546432495\n",
            "1872\n",
            "233.999502658844\n",
            "2072\n",
            "258.20247888565063\n",
            "709\n",
            "0.7345373630523682\n",
            "307\n",
            "1.3787956237792969\n",
            "404\n",
            "2.0431392192840576\n",
            "557\n",
            "1.836904525756836\n",
            "318\n",
            "0.8772685527801514\n",
            "268\n",
            "0.9584860801696777\n",
            "1646\n",
            "4.023868560791016\n",
            "381\n",
            "2.0685863494873047\n",
            "1851\n",
            "3.526099443435669\n",
            "2025\n",
            "7.0567991733551025\n",
            "759\n",
            "5.4726057052612305\n",
            "876\n",
            "26.512075185775757\n",
            "5629\n",
            "97.83774733543396\n",
            "1295\n",
            "25.64696764945984\n"
          ],
          "name": "stdout"
        }
      ]
    },
    {
      "cell_type": "code",
      "metadata": {
        "id": "WPWUvAu-Cjtm"
      },
      "source": [
        "print(lcg_miller_rabin)\n",
        "print(lfg_miller_rabin)\n",
        "print(lcg_fermat)\n",
        "print(lfg_fermat)"
      ],
      "execution_count": null,
      "outputs": []
    },
    {
      "cell_type": "markdown",
      "metadata": {
        "id": "ZV3fU8YME5B6"
      },
      "source": [
        "##Save results and prepare data to show in the report"
      ]
    },
    {
      "cell_type": "code",
      "metadata": {
        "id": "hVCPH65J9xKq"
      },
      "source": [
        "# save generated primes\n",
        "primes_info = dict()\n",
        "primes_info['lcg_miller_rabin'] = lcg_miller_rabin\n",
        "primes_info['lfg_miller_rabin'] = lfg_miller_rabin\n",
        "primes_info['lcg_fermat'] = lcg_fermat\n",
        "primes_info['lfg_fermat'] = lfg_fermat\n",
        "!touch primes_info.json\n",
        "with open('primes_info.json', 'w') as file:\n",
        "  json.dump(primes_info, file)"
      ],
      "execution_count": 122,
      "outputs": []
    },
    {
      "cell_type": "code",
      "metadata": {
        "colab": {
          "base_uri": "https://localhost:8080/"
        },
        "id": "BxrhLAUV0iDe",
        "outputId": "7ab97cbd-88cb-4ae9-fcaa-bbec2d1b13df"
      },
      "source": [
        ""
      ],
      "execution_count": 153,
      "outputs": [
        {
          "output_type": "execute_result",
          "data": {
            "text/plain": [
              "False"
            ]
          },
          "metadata": {
            "tags": []
          },
          "execution_count": 153
        }
      ]
    },
    {
      "cell_type": "code",
      "metadata": {
        "colab": {
          "base_uri": "https://localhost:8080/"
        },
        "id": "Dp7joM8-mjnj",
        "outputId": "47a39547-26aa-492d-fc28-c4772eaa268d"
      },
      "source": [
        "# check somethings \n",
        "generators_string = ['lcg_miller_rabin', 'lfg_miller_rabin', 'lcg_fermat', 'lfg_fermat']\n",
        "for generator_string in generators_string:\n",
        "  print(generator_string)\n",
        "  for bit_len in bit_len_list:\n",
        "    print(bit_len)\n",
        "    for p in eval(generator_string+'['+str(bit_len)+'][\\'gen_number\\']'):\n",
        "      # check primality with more iterations\n",
        "      is_prime = False\n",
        "      if generator_string == 'lcg_fermat' or generator_string is 'lfg_fermat':\n",
        "        is_prime = fermat(p, 100)\n",
        "      # if not is_prime:\n",
        "        # print(\"fermat:p is not prime:{}\".format(p))\n",
        "      else:\n",
        "        is_prime = miller_rabin(p, 100)\n",
        "      if not is_prime:\n",
        "        print(\"p is not prime:{}\".format(p))\n",
        "      # check bit_len\n",
        "      if bits(p) != bit_len:\n",
        "        print(\"p:{}\\n does not has bit_len:{}, it has:{}\".format(p,bit_len,bits(p)))\n",
        "      \n",
        "print(primes_info['lfg_fermat'][4096]['gen_number'][0])\n",
        "print(bits(primes_info['lfg_fermat'][4096]['gen_number'][0]))\n",
        "print(bits(primes_info['lfg_fermat'][4096]['gen_number'][1]))"
      ],
      "execution_count": 191,
      "outputs": [
        {
          "output_type": "stream",
          "text": [
            "lcg_miller_rabin\n",
            "10\n",
            "20\n",
            "40\n",
            "56\n",
            "80\n",
            "128\n",
            "168\n",
            "224\n",
            "256\n",
            "512\n",
            "1024\n",
            "2048\n",
            "4096\n",
            "lfg_miller_rabin\n",
            "10\n",
            "20\n",
            "40\n",
            "56\n",
            "80\n",
            "128\n",
            "168\n",
            "224\n",
            "256\n",
            "512\n",
            "1024\n",
            "2048\n",
            "4096\n",
            "lcg_fermat\n",
            "10\n",
            "20\n",
            "40\n",
            "56\n",
            "80\n",
            "128\n",
            "168\n",
            "224\n",
            "256\n",
            "512\n",
            "1024\n",
            "2048\n",
            "4096\n",
            "lfg_fermat\n",
            "10\n",
            "20\n",
            "40\n",
            "56\n",
            "80\n",
            "128\n",
            "168\n",
            "224\n",
            "256\n",
            "512\n",
            "1024\n",
            "2048\n",
            "4096\n",
            "1034869711921105543740135172988738483259573949902420646969273021847772036414525032111923442555381695178928868762614946640245499201118996009280368050592303354839678722851254308251321836057638033381874689165393717549833826349976119009709175383836237520722748461621245597393550991004206069708476733194424609471469740314332083991022910396581755958068072869872888880390108484366104059944212234764753278681287771954521753673291899808443557310730240670675334397853182109982546100760331700887502682642364702811423343927028036532711563834085546073518359554538297900624249183666778832739221334253403378100625566807667395968170724936197890507602059800422196185106015959478672458765573335445902295676853859564870267337422899961549427910604619924589904822370699354675671146239971996149654468313719949704740475036771106468081555869473595733667492675280696802237503607916358474976095379763820293413391952928404707318451380502515780182553678449106447130040171716949551686778649900195382004659614250980501430203206445949851931953579601245689304307841966202979998677297603407324532680976665272680541217397896847470761921183821910053443582654402658840095618440091414686134599197905125844441903643642903697879101331660029483652167546270030009175531174699\n",
            "4096\n",
            "4096\n"
          ],
          "name": "stdout"
        }
      ]
    },
    {
      "cell_type": "code",
      "metadata": {
        "colab": {
          "base_uri": "https://localhost:8080/"
        },
        "id": "4dKmk7-ZC0Td",
        "outputId": "faf5f656-b3a6-4ce1-a48b-09a3bd8ecfc8"
      },
      "source": [
        ""
      ],
      "execution_count": 188,
      "outputs": [
        {
          "output_type": "execute_result",
          "data": {
            "text/plain": [
              "False"
            ]
          },
          "metadata": {
            "tags": []
          },
          "execution_count": 188
        }
      ]
    },
    {
      "cell_type": "code",
      "metadata": {
        "colab": {
          "base_uri": "https://localhost:8080/",
          "height": 506
        },
        "id": "pgpPvnIV4sar",
        "outputId": "2381dcc1-e6a9-4038-d0d8-10dcb73a98d9"
      },
      "source": [
        "copy_primes_info = dict()\n",
        "with open('primes_info.json') as file:\n",
        "  copy_primes_info = json.load(file)\n",
        "print(copy_primes_info)\n",
        "for generator_string in generators_string:\n",
        "  for bit_len in bit_len_list:\n",
        "    copy_primes_info[generator_string][str(bit_len)].pop('time')\n",
        "    copy_primes_info[generator_string][str(bit_len)].pop('it')\n",
        "    copy_primes_info[generator_string][str(bit_len)].pop('gen_number')\n",
        "print(copy_primes_info)\n",
        "df1 = pd.DataFrame.from_dict(copy_primes_info['lcg_miller_rabin'], orient='index').rename(columns={'avg_it':'avg_it_lcg_mr', 'avg_time':'avg_time_lcg_mr'})\n",
        "df2 = pd.DataFrame.from_dict(copy_primes_info['lfg_miller_rabin'], orient='index').rename(columns={'avg_it':'avg_it_lfg_mr', 'avg_time':'avg_time_lfg_mr'})\n",
        "df3 = pd.DataFrame.from_dict(copy_primes_info['lcg_fermat'], orient='index').rename(columns={'avg_it':'avg_it_lcg_fer', 'avg_time':'avg_time_lcg_fer'})\n",
        "df4 = pd.DataFrame.from_dict(copy_primes_info['lfg_fermat'], orient='index').rename(columns={'avg_it':'avg_it_lfg_fer', 'avg_time':'avg_time_lfg_fer'})\n",
        "pd.concat([df1,df2,df3,df4], axis=1)\n",
        "# pd.concat([df1,df2,], axis=1)\n",
        "pd.concat([df3,df4], axis=1)"
      ],
      "execution_count": 193,
      "outputs": [
        {
          "output_type": "stream",
          "text": [
            "{'lcg_miller_rabin': {'10': {'it': [14, 16, 12, 4, 20, 16, 20, 4, 12, 12], 'time': [0.00014829635620117188, 0.00013494491577148438, 0.0001220703125, 9.036064147949219e-05, 0.00016760826110839844, 0.0001366138458251953, 0.00014662742614746094, 9.226799011230469e-05, 0.0001227855682373047, 0.000133514404296875], 'gen_number': [619, 827, 599, 523, 911, 607, 739, 919, 947, 719], 'avg_it': 13.0, 'avg_time': 0.00012950897216796876}, '20': {'it': [2, 48, 32, 24, 20, 24, 20, 8, 4, 8], 'time': [0.00013709068298339844, 0.00031828880310058594, 0.0002884864807128906, 0.00020766258239746094, 0.00019121170043945312, 0.00019741058349609375, 0.0002014636993408203, 0.00016498565673828125, 0.00012683868408203125, 0.00014495849609375], 'gen_number': [868267, 933851, 802811, 835603, 819239, 852031, 573523, 933979, 720991, 557159], 'avg_it': 19.0, 'avg_time': 0.00019783973693847655}, '40': {'it': [26, 24, 32, 20, 44, 8, 116, 20, 40, 4], 'time': [0.0005438327789306641, 0.0005228519439697266, 0.000583648681640625, 0.0004591941833496094, 0.0006301403045654297, 0.0003571510314941406, 0.0011894702911376953, 0.00044083595275878906, 0.0006008148193359375, 0.00033855438232421875], 'gen_number': [943461150659, 977820889051, 840381935611, 823202066447, 565504028731, 943461150787, 1063720235191, 771662459083, 1012180627699, 788842328311], 'avg_it': 33.4, 'avg_time': 0.0005666494369506836}, '56': {'it': [94, 84, 12, 168, 192, 32, 52, 148, 60, 200], 'time': [0.0012912750244140625, 0.0013127326965332031, 0.0005249977111816406, 0.0020360946655273438, 0.002275228500366211, 0.0007255077362060547, 0.0010464191436767578, 0.0018143653869628906, 0.0009810924530029297, 0.0023055076599121094], 'gen_number': [65208369604636679, 64082469697794139, 38186771840413799, 53949370536210703, 71963769045692879, 62956569790951919, 70837869138850339, 69711969232007863, 66334269511480051, 37060871933572027], 'avg_it': 104.2, 'avg_time': 0.0014313220977783202}, '80': {'it': [170, 220, 192, 44, 40, 92, 88, 72, 124, 188], 'time': [0.0033791065216064453, 0.0042438507080078125, 0.003667593002319336, 0.0014488697052001953, 0.0013136863708496094, 0.002099275588989258, 0.003899812698364258, 0.0018906593322753906, 0.0028257369995117188, 0.003683328628540039], 'gen_number': [659557185440793781514323, 754004515098186685788463, 1056235970001843979465199, 772893981029665266643483, 1037346504070365398610499, 1131793833727758302884511, 867341310687058170917623, 980678106275929656046399, 621778253577836619805627, 867341310687058170918007], 'avg_it': 123.0, 'avg_time': 0.0028451919555664063}, '128': {'it': [6, 60, 228, 68, 220, 176, 160, 80, 12, 192], 'time': [0.0020627975463867188, 0.0038526058197021484, 0.009035825729370117, 0.003973722457885742, 0.008676528930664062, 0.008460521697998047, 0.006815671920776367, 0.0044214725494384766, 0.0020742416381835938, 0.007747650146484375], 'gen_number': [212233403326991567706974527291428351919, 196282667377572577232128842568064217067, 339839290922343491505740005078341431503, 270719435141527866114742037943763513619, 297303995057226183572818179149370405359, 318571642989784837539279092113855918751, 276036347124667529606357266184884892479, 254768699192108875639896353220399379343, 217550315310131231198589755532549731227, 302620907040365847064433407390491784283], 'avg_it': 120.2, 'avg_time': 0.005712103843688965}, '168': {'it': [178, 244, 52, 12, 136, 172, 116, 52, 120, 32], 'time': [0.011490106582641602, 0.014484167098999023, 0.005174398422241211, 0.0033028125762939453, 0.009586095809936523, 0.011918306350708008, 0.008407831192016602, 0.005265474319458008, 0.008594036102294922, 0.004630088806152344], 'gen_number': [332735206099002231044372246915073767475000642285659, 373657251944267512754075422231129692025366753489231, 227507088211177220933706938959501390059773499191683, 280121147155089725989039592937287578767387070738831, 221661081661853609260892199628636257981149769019927, 321043193000355007698742768253343503317753181942467, 361965238845620289408445943569399427868119293145911, 215815075112529997588077460297771125902526038848363, 274275140605766114316224853606422446688763340567523, 227507088211177220933706938959501390059773499192323], 'avg_it': 111.4, 'avg_time': 0.008285331726074218}, '224': {'it': [118, 92, 636, 288, 24, 204, 144, 320, 1224, 220], 'time': [0.01522207260131836, 0.012914180755615234, 0.06142020225524902, 0.03069162368774414, 0.00753474235534668, 0.024029016494750977, 0.017207622528076172, 0.037453651428222656, 0.11012053489685059, 0.02416229248046875], 'gen_number': [25239845903230872411934353968186346945761857864331603663949864284191, 20606105069814356197225960750104847923730473666707442768760181272699, 19342357569791669956850944417900802735903732521900853433708449542903, 15972364236397839982517567532023348901699089469083281873570498262039, 16814862569746297476100911753492712360250250232287674763604986082351, 20606105069814356197225960750104847923730473666707442768760181273851, 25661095069905101158726026078921028675037438245933800108967108195723, 18921108403117441210059272307166121006628152140298656988691205633739, 21448603403162813690809304971574211382281634429911835658794669095827, 23554849236533957424767665525247620028659536337922817883880888646767], 'avg_it': 327.0, 'avg_time': 0.034075593948364256}, '256': {'it': [470, 640, 8, 136, 368, 28, 28, 240, 72, 332], 'time': [0.05408525466918945, 0.06981801986694336, 0.006306886672973633, 0.019251346588134766, 0.04403400421142578, 0.008268117904663086, 0.00838613510131836, 0.029412508010864258, 0.012705326080322266, 0.038944244384765625], 'gen_number': [64982279246462604462967571013990219120780421081889431121101847275274165203327, 64982279246462604462967571013990219120780421081889431121101847275274165203967, 104785809921790046639820097110726687445341978310703375009665391777994303517703, 86693295978459391104887130703119201843268543206697036878500144276757877011599, 64982279246462604462967571013990219120780421081889431121101847275274165204479, 74028536218127932230434054217793961921817138633892600186684471025892378457627, 112022815499122308853793283673769681686171352352305910262131490778488874120759, 90311798767125522211873723984640698963683230227498304504733193777005162313511, 101167307133123915532833503829205190324927291289902107383432342277747018217327, 59554525063463407802487681091707973440158390550687529681752273024903237253307], 'avg_it': 232.2, 'avg_time': 0.02912118434906006}, '512': {'it': [106, 52, 84, 2552, 1232, 916, 656, 436, 1968, 672], 'time': [0.0864870548248291, 0.0532379150390625, 0.07426738739013672, 1.2323071956634521, 0.6138639450073242, 0.45743513107299805, 0.33526182174682617, 0.23017287254333496, 0.9488410949707031, 0.3406867980957031], 'gen_number': [10666888860930894307082980825395536437356630880705667127329552138169267997884032816179616140859346346769022741343675751395369299997525200829779895237914643, 8781415870782716589955383560022839325679845062184861808587176310145894931154940272566852567679625552250112011286201150494060160227095214431062663346434119, 8571918871877363510274539419425872979937979971238105662060245662587742368185041101054323281770767686192455263502037305949470255808158549275649637580714139, 10666888860930894307082980825395536437356630880705667127329552138169267997884032816179616140859346346769022741343675751395369299997525200829779895237917331, 9828900865309481988359604263007671054389170516918642541221829547936657746004436130129498997223914882538395750207020373217009682321778540208127792175038307, 9619403866404128908678760122410704708647305425971886394694898900378505183034536958616969711315057016480739002422856528672419777902841875052714766409319159, 12133367853268365864848889809574300857549686517332960153018066671076335938673327016767321142221351409172619975832822663207498630930081856917671075597960583, 6895942880634538872827786294650142214003059243664056489844800482122521864425847728954088994499904757731201281228726549592751020456665228032345431454959419, 7733930876255951191551162857038007596970519607451081075952523072355132116305444415004206138135336221961828272365381927771110638132411888653997534517841643, 12761858849984425103891422231365199894775281790173228592598858613750793627583024531304908999947925007345590219185314196841268344186891852383910152895123851], 'avg_it': 867.4, 'avg_time': 0.43725612163543703}, '1024': {'it': [3030, 624, 520, 2836, 296, 4276, 4360, 432, 4172, 2760], 'time': [8.080434799194336, 1.7978241443634033, 1.5097947120666504, 7.586066007614136, 0.9356977939605713, 11.337800741195679, 11.553739547729492, 1.285121202468872, 11.060441732406616, 7.360276937484741], 'gen_number': [100886164209070072425954497035165320337154697646371631881312975233050499052305879049736137664007354199352563909146576220248617695779965578508355784642725713029710888106923208533966480010595138757140987958787288393709951750116668622285490300316531952105994882949292571017470394530579111624197966898526094539647, 157064074673517444542495284247322343262716478238318712279259875594841960241524930028707536827259709205952599496606386644516989498534470773037370606717561376897763354802193672682810923635984543169470076381313852696471873838348688272746088147360540463719541917538225789217453908886354022969459015751533664583151, 128975119441293758484224890641243831799935587942345172080286425413946229646915404539221837245633531702652581702876481432382803597157218175772863195680143544963737121454558440608388701823289840963305532170050570545090912794232678447515789223838536207912768400243759180117462151708466567296828491325029879562231, 171108552289629287571630481050361598994106923386305482378746600685289825538829692773450386618072797957602608393471339250584082449223097071669624312236270292864776471476011288720022034542331894272552348486945493772162354360406693185361237609121542591622928676185459093767449787475297750805774277964785557097227, 120548432871626652666743772559420278361101320853553110020594390359677510468532546892376127371145678451662576364757509868742547826744042396593510972368918195383529251450267870986062035279481430301456168906671585899676624480997875499946699546781934931170736345055419197387464624555100330595039333997078744058931, 95268373162625335214300418313949618044598519587176923841518285196871352933383973951838997747682118698692560350400595177821780515504515059055454302435242146642905641437396162119082035648056198315908079116534631963433759541293466657239430515612131100944640179490399249197472043095001620489671862013225337543911, 157064074673517444542495284247322343262716478238318712279259875594841960241524930028707536827259709205952599496606386644516989498534470773037370606717561376897763354802193672682810923635984543169470076381313852696471873838348688272746088147360540463719541917538225789217453908886354022969459015751533664595439, 168299656766406918965803441689753747847828834356708128358849255667200252479368740224501816659910180207272606614098348729370663859085371811943173571132528509671373848141247765512579812361062424051935894065819165557024258255995092202838207716769342166042251324456012432857450611757509005238511225522135178604447, 103695059732292441031781536395773171483432786675968985901210320251140072111766831598684707622169971949682565688519566741462036285917690838234806525746467496223113511441686731741408702191864608977757442379913616608848047854528269604808520192668732377686672234678739231927469570248367857191461019341176473059307, 120548432871626652666743772559420278361101320853553110020594390359677510468532546892376127371145678451662576364757509868742547826744042396593510972368918195383529251450267870986062035279481430301456168906671585899676624480997875499946699546781934931170736345055419197387464624555100330595039333997078744074931], 'avg_it': 2330.6, 'avg_time': 6.250719761848449}, '2048': {'it': [2838, 496, 6552, 1272], 'time': [49.196173667907715, 9.3860502243042, 112.2093334197998, 22.595844268798828], 'gen_number': [26215487997951507224408031480522630301245671827125972072939069272588359572284760451122208957524446729007905325070758419459422506967130005002916561115569375500199266406026719485885902602204105810591072797803742311245366604445770974073991058298008664327047350736742992241821562214101671873388678573768500820547073736590837730895946275119830373431374215716156638857008428288754204841220534864213035290826018676719092272287241845226280954124848861195889978662818148365956379298925574206586943846843591425158346005244465003663455281638260310093239937732631014921931854336425653702726606005430840088964303771874596521425599, 20156049359580693355523992101397014308662402576554318816914629504927486733747030908647733692863900454566270707397902540804275089626412957297587532543110322415080976899657782718682740524006046040566811990606729642193468063450279769793646415609544382363813292139486185046280141734437722034274762498932763873261714799080274916692067842347349516651088682709532953471118839727629637430087698555309861804663985467332977846590030246971731263283792302588814285360336907010101293233042295417263476890269791802007781278510591872800634157150444122848574526763932995421517428936031923151855608790692411561178012049322522847132847, 21165955799309162333671331997917950307426280784982927692918702799537632206836652499060146236973991500306543143676711853913466325849865798581809037305186831262600691817385938846549934203705722668904188791806231753702117820282861637173703856057621762691018968572362319578870378481048380340793748511405386697809274621998702052392714247809429659447802938210636901035433771154483731998609837940127057385690991002230663584206232180014156211757301729023326900910750447236077140910689508548817388049698758405866208732966237394611104344565080154056018761925382665338253166502764211577000774993148816315809060669747868459521607, 26215487997951507224408031480522630301245671827125972072939069272588359572284760451122208957524446729007905325070758419459422506967130005002916561115569375500199266406026719485885902602204105810591072797803742311245366604445770974073991058298008664327047350736742992241821562214101671873388678573768500820547073736590837730895946275119830373431374215716156638857008428288754204841220534864213035290826018676719092272287241845226280954124848861195889978662818148365956379298925574206586943846843591425158346005244465003663455281638260310093239937732631014921931854336425653702726606005430840088964303771874596521433919], 'avg_it': 1115.8, 'avg_time': 19.338740158081055}, '4096': {'it': [11058, 7828], 'time': [1328.3727996349335, 941.4484899044037], 'gen_number': [928798966152582242279254038306581319403796330858545731773999308701745467636163727900714469468233505659932217299429709008262386273803251346042695635419899068798292467421033761544878862059614686990565588304814598011217481467849788808976828892457490442383228908393312408698811204804037773470288579200777934650478098074492527419012677793515557581288428081633617746789019835508605877716027537903188553665334491780470903756712703770258803736174447277360385537100819160470537433402505324186812525945775416583708467676951575495193164387227894833394270138961442136828334024237069569988026506301017749333412959434476782452379244587941076500252571410891406037355333640373105505041900904217544373123904318111440726138580605353138317034090611574894750320209182206627442040580684459093579503098910283374951043955472622493692119131209547813528117604752583332362963159273157474912842502468711248884818270499474921285811160161916265262397059633035089868354056876053277006662047150898089236770718177949648458382115640714518882423514937780296708071295746276787567801043709759793240237985627307806582984865655120660355311653811254358084056442781886974750732450174029212391499674335349476680447028394353778779797910018134214631314630883614318353325939419, 912480389880501734362195402201634063425984389467180360205495660525433687824108142637451550531749168810855809382016595526418830438831598320929207571547221486330386889662538292820810712213764941391902649710879348851430351485984199547325698663014606276484841284819784225822697391542473420202875017047909215447248614652978749484857257393043834754091559652673729880081160043376683080450152969155255519047495525599847696077238981302845764724704325216850393404677378706699459176885916650848244809530915526394829255946170581489421102933865179257990564075026541250090500922786345068026304225077573806446149481377062841911488247611286182037583419350963592168470613283587633666007489760951643154269604388657066950569527944644151992283857687213403188089107410337696945255094640222623414123835093411631906516096811317266862975017630463518122059901594412029305341551789588090287726675192540626649653088587331877280789587801824032197757579815177957981940808438992311671259492881775428810941657243637209539640409362986006105572735758785620924034904020134296424589312341506326887554448544543979820179860694854997215833264578845789567206256378691303159211528648277601046407439939999266255607549125346098918366614380919557858875720824165750534526663023], 'avg_it': 1888.6, 'avg_time': 226.9821289539337}}, 'lfg_miller_rabin': {'10': {'it': [425, 12, 20, 12, 12, 12, 12, 12, 16, 16], 'time': [0.0007421970367431641, 0.00013566017150878906, 0.00016999244689941406, 0.0001373291015625, 0.00012969970703125, 0.00012493133544921875, 0.00013566017150878906, 0.00012993812561035156, 0.00014328956604003906, 0.0001544952392578125], 'gen_number': [599, 811, 823, 523, 991, 691, 647, 859, 971, 571], 'avg_it': 54.9, 'avg_time': 0.00020031929016113282}, '20': {'it': [433, 4, 84, 16, 4, 36, 4, 28, 8, 36], 'time': [0.0008003711700439453, 0.000152587890625, 0.0005013942718505859, 0.00020265579223632812, 0.00014019012451171875, 0.00032830238342285156, 0.0001399517059326172, 0.0002391338348388672, 0.00015234947204589844, 0.0002846717834472656], 'gen_number': [857419, 611671, 955987, 1021571, 775823, 923387, 677639, 530267, 825203, 710623], 'avg_it': 65.3, 'avg_time': 0.0002941608428955078}, '40': {'it': [501, 80, 20, 8, 52, 8, 160, 435, 34, 8], 'time': [0.0015254020690917969, 0.0008795261383056641, 0.0004355907440185547, 0.00032711029052734375, 0.0006706714630126953, 0.0003154277801513672, 0.0013997554779052734, 0.007014036178588867, 0.0006544589996337891, 0.0004303455352783203], 'gen_number': [914828035607, 708669605639, 794568951619, 554050783067, 1052266989559, 811748821007, 949187774959, 800295576287, 648540064943, 854698495199], 'avg_it': 130.6, 'avg_time': 0.0013652324676513671}, '56': {'it': [521, 20, 36, 244, 461, 16, 8, 52, 142, 94], 'time': [0.0020177364349365234, 0.0004715919494628906, 0.0006215572357177734, 0.0021948814392089844, 0.008738994598388672, 0.0005452632904052734, 0.0004432201385498047, 0.001073598861694336, 0.0023984909057617188, 0.0017142295837402344], 'gen_number': [65583669573584467, 53198770598315663, 63331869759899387, 41939771529890263, 51509920738053199, 42502721483312303, 56013520365423839, 71776119061220887, 45880421203841387, 37999121855943583], 'avg_it': 159.4, 'avg_time': 0.0020219564437866213}, '80': {'it': [489, 32, 268, 40, 525, 24, 66, 28, 8, 84], 'time': [0.001968860626220703, 0.0008406639099121094, 0.0036334991455078125, 0.0012242794036865234, 0.02549433708190918, 0.0017082691192626953, 0.0032362937927246094, 0.0017592906951904297, 0.0011501312255859375, 0.004349708557128906], 'gen_number': [949195663056798687954419, 1100311390508627334792787, 1156979788303063077357943, 1043642992714191592229359, 1090866657542888044367359, 1166424521268802367786639, 996419327885495140093979, 883082532296623654965443, 1109756123474366625222899, 769745736707752169837291], 'avg_it': 156.4, 'avg_time': 0.00453653335571289}, '128': {'it': [493, 88, 735, 226, 353, 144, 202, 80, 404, 36], 'time': [0.0037353038787841797, 0.0031347274780273438, 0.03954672813415527, 0.01079249382019043, 0.012339591979980469, 0.004736185073852539, 0.0071659088134765625, 0.004385709762573242, 0.0157163143157959, 0.0028760433197021484], 'gen_number': [187421147405673138079436795499528586751, 219322619304511119029128164946256856839, 280467107110617249182703289719152708891, 275150195127477585691088061478031331943, 224639531287650782520743393187378239563, 288442475085326744420126132080834780507, 329205466956064164522509548596098681543, 222867227293270894690204983773671116503, 339839290922343491505740005078341443131, 217550315310131231198589755532549742823], 'avg_it': 276.1, 'avg_time': 0.010442900657653808}, '168': {'it': [437, 48, 352, 451, 86, 210, 36, 311, 734, 168], 'time': [0.002928495407104492, 0.0032243728637695312, 0.013311624526977539, 0.050850868225097656, 0.007144451141357422, 0.014848470687866211, 0.003930807113647461, 0.013649463653564453, 0.03901028633117676, 0.011333227157592773], 'gen_number': [217763743962304534812349040074726169928733948904791, 287915822554187874886125912045107754872218710967783, 241147770159598981503607997398186698243228869593607, 343452884772762185777865935688326509619144147602547, 325914865124791350759421717695731113383272957087351, 320068858575467739086606978364865981304649226916707, 355144897871409409123495414350056773776391607948347, 358067901146071214959902784015489339815703473035663, 285967153704413337661854332268152710846010800921031, 250891114408471667624965896282961918374268419892799], 'avg_it': 283.3, 'avg_time': 0.01602320671081543}, '224': {'it': [1354, 18, 683, 714, 843, 291, 79, 20, 12, 169], 'time': [0.11251473426818848, 0.004802227020263672, 0.055913448333740234, 0.06569170951843262, 0.04317522048950195, 0.02896261215209961, 0.01140904426574707, 0.005191802978515625, 0.004210710525512695, 0.02068638801574707], 'gen_number': [24327139375436710127219064394927869865664767037526844699745835814399, 17165903541974821431760638512438280467979900550289505134452689342059, 14427783958592334577614769792662849227688628069875228241840603930091, 24818596736556643665142681857451665216486277482729407218932620386687, 18359442847551802881003709492853212034260711631495728395334880447047, 15902156041952135191385622180234235280153159405482915799400957643907, 26854634375482082607969097059335960241318249327140023369849299312391, 26854634375482082607969097059335960241318249327140023369849299313591, 26854634375482082607969097059335960241318249327140023369849299314311, 15902156041952135191385622180234235280153159405482915799400957660707], 'avg_it': 418.3, 'avg_time': 0.0352557897567749}, '256': {'it': [1310, 42, 12, 20, 72, 52, 291, 386, 1499, 96], 'time': [0.13095879554748535, 0.010489702224731445, 0.005967140197753906, 0.007111787796020508, 0.014985799789428711, 0.011867284774780273, 0.039061784744262695, 0.03530120849609375, 0.11777973175048828, 0.013813257217407227], 'gen_number': [100865765234068404607251287722411732231559400704835335081246254819393077775607, 106293519417067601267731177644693977912181431236037236520595829069764005727731, 109912022205733732374717770926215475032596118256838504146828878570011291029051, 77345497107738552411838431392522000948863935069627095510731433067785723317939, 99056513839735339053757991081650983671352057194434701268129730069269435125859, 95438011051069207946771397800129486550937370173633433641896680569022149824923, 61966860255907495207145409946055638187101515231221708099240972691734760789227, 79456290401127128890913944140076207602439169165094501626034045276263306414063, 60760692659685451504816545518881805813629952890954618890496622858318999049679, 79154748502071617965331728033282749509071278580027729323847957817909366001227], 'avg_it': 378.0, 'avg_time': 0.03873364925384522}, '512': {'it': [1272, 44, 2176, 288, 514, 245, 313, 500, 1067, 953], 'time': [0.5771310329437256, 0.05152606964111328, 0.9137589931488037, 0.15224695205688477, 0.38706445693969727, 0.2618069648742676, 0.19031500816345215, 0.17123770713806152, 0.3376500606536865, 0.6967272758483887], 'gen_number': [12692026517015974077331140851166211112861326759857643210423215064564742773259724807467399237978305718659704636590592915326405042713912963998772477639877383, 11050966692257374953164528416489974737883383547441386729295591658692547696662181297285919831692252434541393445614642799727117458098909086948037109141736731, 10387559529057090200841855304599581309700810759443325598626977941425064580590833920829577092980869192025480410964790625335916094105609647289229194216978191, 9165493702109197236036931151117277626206597728920581410553215830669174629933088753673156258512531640022482715557168198825808318328479100549319877250289227, 6791194381181862332987364224351659041132126698190678416581335158343445582940898143197824351545475824702372907336644627320456068247196895454638918572141903, 12028619353815689325008467739275817684678753971859582079754601347297259657188377431011056499266922476143791601940740740935203678720613524339964562715165063, 8851248203751167616515664940221828107593800092500447190762819859331945785478239996404362329649244840935997593880922432008923461700074102816200338601763103, 9898733198277933014919885643206659836303125547234227923397473097122708600327735853967008759193534171224281332801741654731872983794757428593265467430420043, 7524433877350598111870318716441041251228654516504324929425592424796979553335545243491676852226478355904171524581218083226520733713475223498584508752454391, 10631972694446668793802840135296042046399653365547874436241730363576242570722382954260861259874536702426079950046315110637937649261035756637211057611164067], 'avg_it': 737.2, 'avg_time': 0.3739464521408081}, '1024': {'it': [709, 711, 3170, 5266, 3, 505, 3255, 2198, 381, 372], 'time': [0.7218284606933594, 3.214735746383667, 9.052597999572754, 13.243879556655884, 0.16709661483764648, 2.298121690750122, 9.245910406112671, 4.833335876464844, 1.48579740524292, 1.5392074584960938], 'gen_number': [115866940332922704990365373625073859783971172470890853320765481996194888702764292644128510774207982201112573399135859000053516843181166963716093070529348556727858212558995332306991664977365646600428744871461038874446464306978540529074983059528267555202940758839674762537465998358785754649600913259328113215623, 136933656757090469534068168829632743381056840192871008469995569631866686648721436761242785460427615328587586744433287909154156269214106411664473628807411930678377887569721756362808331336886673255052153029908500487982185090065547897997707252169770747058020896810524719362459816242201346404073806579205951983499, 113526194063570731152176174157900650495406098279559724970851027814453577819880165520004702475739134075837571916325033565709001351399729247277384119609563737400022693113359062967456479826307754749915032853855765361831384219968873043639124815901433867219042965731802545112466685260628466676881702890452797870863, 144424044819016785816273607124587013104465077605130619189721823013438881473950643558438972015527929329467591489427929299056605842914707104268342271750723352527451549795757818249320923820271927176696031486245375728350441368496483851392453631775638548606493834755715815122457618156304667916775279759606969243147, 152850731388683891633754725206410566543299344693922681249413858067707600652333501205284681890015782580457596827546900862696861613327882883447694495061948702107659419800048387871647590364080337838545394749624360373764729681731286798961543308832239825348525889944055797852455145309670904618564437087558104787571, 95736522416495729981938258207384259902311534425443149511501176033219615109960799376663759407375888323747560646962760264690683613860802602343196092619199110508472745326523415986989072678267776686010821520055686665956775558695400154326602164337497838541419738111973692682471905714633078084215704087000413801291, 94332074654884545679024738527080334329172489910644472501552503524174828580230323102189474428294579448582559757276265004083974318791939972479970722067328218911771433659141654383267961587633041575702594309492522558387727506489599663065087218161397625751081062247250362227472317855738705300584177865675440231279, 124761776156460205575484331600332055080518454397949141050440407886811870057723975715798982308389605077157579033816995650562675711950630286183187084024530870173633186452413155797225368551385635632380850538361078222383768637615276973731244385310235569541752372649589188752463388131783448945933912661056077112347, 175321895574462840480371040091273375713524056930701513408592618212424185128021121596873241555316724583097611062530825032404210334429684961259300423891882967654880406478156573531185367814236099603477030118634986094869498517024094659145782447649843229993944703779629085132448551051980869156668856628763546548471, 141147000041924022442808727870544520100473973737267039499841587159001046237912865584665640397671541954082589413492773690974284154420694301254149740463024605468481822571867041173971664608790878585976834661597992810689329246682949371782252090698071385429036924404694710727458579818884464754968385243184780169319], 'avg_it': 1657.0, 'avg_time': 4.5802511215209964}, '2048': {'it': [7264, 1295, 4823, 2415], 'time': [125.91654062271118, 25.254658222198486, 87.38788104057312, 35.11946725845337], 'gen_number': [20576843709467555429752050391614070974814018496732905848582993377681714014201039904652905586243105056958050889180739754599771438052851641166013159527308867768214191448711181105294071223880911302374052324439855521988738795463855547868670349129576624166815657319851241101526073712192162995324340004129690050156531391962952889900670511289882909483052955834992931622916727822152176833638589965650359963425237773540346903930114385739408325147754563603194541839675882104257896432061967555410939873365194553615459384533777506888330068573209135851676291414537024553490652922170376662332761375049246875607615641166416853020283, 17799601000214265739846865676181496978213353423554231439571791817503813963204580531018771089940354681172301689414014143549495538438356327634404021431598468437534975424958751753659288604706800574446266121141224715339951964174255412573512387897363828267000047129441871136902922659012852652397128469829977282650741878937278266723892896269162516792088753206957075821050666398303416770202706657403072115600972552571711125485559069872739716845603640908284849076038646482824315318532131443637684184935536393004783884780752321909537053182960050031204644720550432282467374613656583493183554318294133800372231934996716420644491, 21418432409241279578208166972048184307117250337090079911919721123190168575109057896663249373001514261741611252746414182190764134905729008902864413495705958474480620546817977878516732623630641825988532992106107281579280259491007104018718216169641107772820387680581353212017937667701044917423495014523542403946164577728308836317875849174949695146981502085912887926512504011197255640740372786331356280947742385955085018610282663274762448875679085631955054798353832292571102830101311831705865839556000056830815596580148775063721891418739161857879820715745082817437100894447283683287066543762917504466822824854205068958519, 26467964607883624468944866454652864300936641379233124291940087596240895940557165848725312093551969490442973434140460747736720316022993215323971937306088502712079195135458758517852701022129024967675416998103617839122529043653916440919005418410028009408848769844962025874969121400754336450018425076886656526683963692320444514821107876485350409130552779591432625748087161145467728483351069710417334186082770060443513706691292328486887191243226217804518132550421533422450341218337377489475421636700833076122952868858376384116072828491919317895100996522993432401115788728108725809012897556044941277622065926980934636406539], 'avg_it': 1579.7, 'avg_time': 27.367854714393616}, '4096': {'it': [10012, 6197], 'time': [1232.2486016750336, 765.096040725708], 'gen_number': [1034869711921105543740135172988738483259573949902420646969273021847772036414525032111923442555381695178928868762614946640245499201118996009280368050592303354839678722851254308251321836057638033381874689165393717549833826349976119009709175383836237520722748461621245597393550991004206069708476733194424609471469740314332083991022910396581755958068072869872888880390108484366104059944212234764753278681287771954521753673291899808443557310730240670675334397853182109982546100760331700887502682642364702811423343927028036532711563834085546073518359554538297900624249183666778832739221334253403378100625566807667395968170724936197890507602059800422196185106015959478672458765573335445902295676853859564870267337422899961549427910604619924589904822370699354675671146239971996149654468313719949704740475036771106468081555869473595733667492675280696802237503607916358474976095379763820293413391952928404707318451380502515780182553678449106447130040171716949551686778649900195382004659614250980501430203206445949851931953579601245689304307841966202979998677297603407324532680976665272680541217397896847470761921183821910053443582654402658840095618440091414686134599197905125844441903643642903697879101331660029483652167546270030009175531174699, 741135339023656401233079723099687875658959004857843958736207354674159999797524497373190901698663631895553526249178903967061494171629241557237582900884106870417378323198335871218095138832342612605941794474559232673665486676395512299988831253864322534551771237297738305623502352296047710895032614442787663813339038727084081176225343188090745068524441148594907279648632225991493709158469997301958655560186380703304015442764895395008855104268043581495476014231253942103137483461735580793283787174886679411597532772970144428814457673556665716251650403710081939343253357553737797428220272231412406129882961774216466232132779356409790179557322721721546545181049537340179356146172756659680356299455129386142307094475007199795582406411981417741784662538805713926729007491175739686677641565016258329938973580867612385156961825050078416358454018433613347200314673212109551724010488792749093180418678509829915228063078020855585019043041727678073174601699849852175649532673055987494339736517433356600892852493446836621948639554379341525191652790895638139420866132974844930184377309175523798810727308612065534251310177638555820140279299145136751448241852627885681922938978788822056794793016800765460373338010190165661748267165199955788439598924191], 'avg_it': 1620.9, 'avg_time': 199.73446424007415}}, 'lcg_fermat': {'10': {'it': [14, 6, 4, 6, 2, 4, 6, 4, 2, 8], 'time': [9.322166442871094e-05, 6.580352783203125e-05, 5.841255187988281e-05, 6.508827209472656e-05, 5.53131103515625e-05, 6.794929504394531e-05, 6.604194641113281e-05, 5.936622619628906e-05, 5.3882598876953125e-05, 6.985664367675781e-05], 'gen_number': [619, 601, 653, 827, 1013, 809, 599, 523, 709, 557], 'avg_it': 5.6, 'avg_time': 6.549358367919922e-05}, '20': {'it': [2, 26, 22, 10, 16, 4, 2, 10, 14, 6], 'time': [9.751319885253906e-05, 0.00016117095947265625, 0.00015091896057128906, 0.00011110305786132812, 0.00015234947204589844, 9.655952453613281e-05, 8.96453857421875e-05, 0.00010228157043457031, 0.0001232624053955078, 9.1552734375e-05], 'gen_number': [868267, 1023941, 933851, 892901, 565237, 1007609, 802811, 761861, 835603, 876569], 'avg_it': 11.2, 'avg_time': 0.00011763572692871093}, '40': {'it': [26, 24, 6, 26, 20, 2, 42, 8, 42, 52], 'time': [0.0004177093505859375, 0.00038886070251464844, 0.0002493858337402344, 0.0004527568817138672, 0.00032639503479003906, 0.00020194053649902344, 0.0004909038543701172, 0.00024080276489257812, 0.00046825408935546875, 0.0005295276641845703], 'gen_number': [943461150659, 977820889051, 745892655073, 840381935611, 823202066447, 814612131857, 565504028731, 943461150787, 1037950431341, 1020770562209], 'avg_it': 24.8, 'avg_time': 0.0003766536712646484}, '56': {'it': [44, 50, 6, 64, 14, 12, 106, 4, 58, 30], 'time': [0.0006749629974365234, 0.0007009506225585938, 0.0003190040588378906, 0.0008158683776855469, 0.0003933906555175781, 0.00037550926208496094, 0.0011866092681884766, 0.0003409385681152344, 0.0007812976837158203, 0.0005214214324951172], 'gen_number': [47756921048575957, 65208369604636679, 59015920117002253, 41001521607520333, 64082469697794139, 38186771840413799, 71400819092271313, 47756921048576213, 53949370536210703, 50008720862261549], 'avg_it': 38.8, 'avg_time': 0.0006109952926635742}, '80': {'it': [164, 6, 182, 24, 14, 2, 80, 110, 10, 34], 'time': [0.002819061279296875, 0.0005538463592529297, 0.0030519962310791016, 0.0008029937744140625, 0.0006937980651855469, 0.0005028247833251953, 0.0017352104187011719, 0.002074718475341797, 0.0006275177001953125, 0.0009741783142089844], 'gen_number': [687891384338011652796493, 659557185440793781514323, 782338713995404557070601, 1122349100762019012456737, 754004515098186685788463, 744559782132447395361073, 669001918406533071942017, 1056235970001843979465199, 1160128032624976174166521, 772893981029665266643483], 'avg_it': 62.6, 'avg_time': 0.0013836145401000977}, '128': {'it': [6, 60, 228, 30, 38, 220, 14, 32, 112, 18], 'time': [0.0013356208801269531, 0.002980947494506836, 0.008307218551635742, 0.002001047134399414, 0.002312183380126953, 0.00795435905456543, 0.0015439987182617188, 0.002084016799926758, 0.0045278072357177734, 0.0016543865203857422], 'gen_number': [212233403326991567706974527291428351919, 196282667377572577232128842568064217067, 339839290922343491505740005078341431503, 321230098981354669285086706234416607469, 270719435141527866114742037943763513619, 297303995057226183572818179149370405359, 214891859318561399452782141411989041661, 172356563453444091519860315483018015261, 278694803116237361352164880305445581453, 318571642989784837539279092113855918751], 'avg_it': 75.8, 'avg_time': 0.003470158576965332}, '168': {'it': [76, 102, 14, 230, 52, 12, 136, 42, 64, 48], 'time': [0.005574941635131836, 0.006608724594116211, 0.0024802684783935547, 0.012749433517456055, 0.004251956939697266, 0.002346038818359375, 0.008234262466430664, 0.003771543502807617, 0.0047435760498046875, 0.0040149688720703125], 'gen_number': [201200058739220968406040611970608295705966713417717, 332735206099002231044372246915073767475000642285659, 288890156979075143498261701933585276885322665996393, 373657251944267512754075422231129692025366753489231, 227507088211177220933706938959501390059773499191683, 280121147155089725989039592937287578767387070738831, 221661081661853609260892199628636257981149769019927, 300582170077722366843891180595315541042570126340673, 207046065288544580078855351301473427784590443590273, 230430091485839026770114308624933956099085364277937], 'avg_it': 77.6, 'avg_time': 0.0054775714874267575}, '224': {'it': [118, 92, 78, 536, 22, 288, 24, 30, 174, 98], 'time': [0.013081789016723633, 0.011076688766479492, 0.009724855422973633, 0.0486607551574707, 0.00509333610534668, 0.02799391746520996, 0.0052258968353271484, 0.00585484504699707, 0.01840996742248535, 0.012585639953613281], 'gen_number': [25239845903230872411934353968186346945761857864331603663949864284191, 20606105069814356197225960750104847923730473666707442768760181272699, 24186722986545300544955173691349642622572906910326112551406754509001, 18289234653106098089871764141064098412714781567895362321165339767521, 19342357569791669956850944417900802735903732521900853433708449542903, 15972364236397839982517567532023348901699089469083281873570498262039, 16814862569746297476100911753492712360250250232287674763604986082351, 15340490486386496862330059365921326307785718896679987206044632396877, 20606105069814356197225960750104847923730473666707442768760181273851, 20395480486477241823830124694737507059092683475906344546251559318877], 'avg_it': 146.0, 'avg_time': 0.015770769119262694}, '256': {'it': [468, 2, 466, 174, 8, 50, 86, 368, 28, 28], 'time': [0.05208539962768555, 0.0037689208984375, 0.04943394660949707, 0.02091193199157715, 0.004410982131958008, 0.008553743362426758, 0.012387752532958984, 0.04050946235656738, 0.009675741195678711, 0.007210731506347656], 'gen_number': [73123910520961399453687405897413587641713466878692283280126208650830557131133, 64982279246462604462967571013990219120780421081889431121101847275274165203327, 114736692590621907184033228634910804526482367617906860981806277903674338095953, 64982279246462604462967571013990219120780421081889431121101847275274165203967, 104785809921790046639820097110726687445341978310703375009665391777994303517703, 82170167492626727221153889101217330442750184430695452345708832401448770384953, 86693295978459391104887130703119201843268543206697036878500144276757877011599, 64982279246462604462967571013990219120780421081889431121101847275274165204479, 74028536218127932230434054217793961921817138633892600186684471025892378457627, 112022815499122308853793283673769681686171352352305910262131490778488874120759], 'avg_it': 167.8, 'avg_time': 0.020894861221313475}, '512': {'it': [106, 52, 58, 26, 590, 832, 1130, 458, 108, 140], 'time': [0.06699514389038086, 0.041726112365722656, 0.044188499450683594, 0.029488086700439453, 0.29526281356811523, 0.40894389152526855, 0.5470352172851562, 0.23368191719055176, 0.06757497787475586, 0.08449959754943848], 'gen_number': [10666888860930894307082980825395536437356630880705667127329552138169267997884032816179616140859346346769022741343675751395369299997525200829779895237914643, 8781415870782716589955383560022839325679845062184861808587176310145894931154940272566852567679625552250112011286201150494060160227095214431062663346434119, 7419685377897921572029896646142558078357721971030946856162127101017903271850595657735412209272049422875343150689136160954225781504006890920877995869253761, 8571918871877363510274539419425872979937979971238105662060245662587742368185041101054323281770767686192455263502037305949470255808158549275649637580714139, 10352643362572864687561714614500086918743833244285532907539156166832039153429184058910822211996059547682537619667429984578484443369120203096660356589335273, 7000691380087215412668208364948625386873991789137434563108265805901598145910797314710353637454333690760029655120808471865045972666133560610051944337815081, 10666888860930894307082980825395536437356630880705667127329552138169267997884032816179616140859346346769022741343675751395369299997525200829779895237917331, 10143146363667511607880870473903120573001968153338776761012225519273886590459284887398292926087201681624880871883266140033894538950183537941247330823617629, 12028619353815689325008467739275817684678753971859582079754601347297259657188377431011056499266922476143791601940740740935203678720613524339964562715098313, 8886164370235393129795805630321322498550777607658239881850641633924971212639889858323117210634054485278940385178283072766355112436563547008769176229297493], 'avg_it': 350.0, 'avg_time': 0.18193962574005126}, '1024': {'it': [3030, 126, 228, 270, 520, 1082, 1754, 296, 654, 832], 'time': [8.00419569015503, 0.43910670280456543, 0.6946561336517334, 0.8055219650268555, 1.4600036144256592, 2.92549729347229, 4.6767497062683105, 0.8819582462310791, 1.8235111236572266, 2.271162509918213], 'gen_number': [100886164209070072425954497035165320337154697646371631881312975233050499052305879049736137664007354199352563909146576220248617695779965578508355784642725713029710888106923208533966480010595138757140987958787288393709951750116668622285490300316531952105994882949292571017470394530579111624197966898526094539647, 113526194063570731152176174157900650495406098279559724970851027814453577819880165520004702475739134075837571916325033565709001351399729247277384119609563737400022693113359062967456479826307754749915032853855765361831384219968873043639124815901433867219042965731802545112466685260628466676881702890452797799421, 121952880633237836969657292239724203934240365368351787030543062868722296998263023166850412350226987326827577254444005129349257121812905026456736342920789086980230563117649632589783146370116165411764396117234750007245672533203675991208214492958035143961075020920142527842464212413994703378670860218403933306081, 157064074673517444542495284247322343262716478238318712279259875594841960241524930028707536827259709205952599496606386644516989498534470773037370606717561376897763354802193672682810923635984543169470076381313852696471873838348688272746088147360540463719541917538225789217453908886354022969459015751533664583151, 128975119441293758484224890641243831799935587942345172080286425413946229646915404539221837245633531702652581702876481432382803597157218175772863195680143544963737121454558440608388701823289840963305532170050570545090912794232678447515789223838536207912768400243759180117462151708466567296828491325029879562231, 110717298540348362546349134797292799349128009249962370950953682796364004760419212971056132517576516325507570136952043044495582761262003987550933378505821954206620069778595539760014257645038284529298578432729437146693288115557272061116094923549233441638365614002355884202467509542839721109618650447802419299377, 171108552289629287571630481050361598994106923386305482378746600685289825538829692773450386618072797957602608393471339250584082449223097071669624312236270292864776471476011288720022034542331894272552348486945493772162354360406693185361237609121542591622928676185459093767449787475297750805774277964785557097227, 120548432871626652666743772559420278361101320853553110020594390359677510468532546892376127371145678451662576364757509868742547826744042396593510972368918195383529251450267870986062035279481430301456168906671585899676624480997875499946699546781934931170736345055419197387464624555100330595039333997078744058931, 144424044819016785816273607124587013104465077605130619189721823013438881473950643558438972015527929329467591489427929299056605842914707104268342271750723352527451549795757818249320923820271927176696031486245375728350441368496483851392453631775638548606493834755715815122457618156304667916775279759606961327809, 99481716447458888123040977354861394764015653131572954871364302724005712522575402775261852684926045324187563019460080959641908400711102948645130414090854821433009576439541446930245368919960403646832760748224124286140903697910868131023975354140431739315656207084569240562470806671684738840566440677200905294337], 'avg_it': 879.2, 'avg_time': 2.398236298561096}, '2048': {'it': [1996, 842, 496, 6538], 'time': [34.50618600845337, 14.9514901638031, 9.067999601364136, 111.63600087165833], 'gen_number': [17378806650327403665618807385964440312061737503375644407903427944749586682750571535013599196561150078780521507631176929753999190011917643765978394447399923084401760875905353367047957904831935312639025787308098835544681232160679634498488454377331586463997681949076815081656990681258411691347550964633051105755925286054600293515290227326629123960124480081497097669252778303780877366651815247062573956839720246364342068145474931105062654981641379893904592596699671388667712119512459305490221201840133641397105778757566687821841141760195037028102880069946403150494150627518129982706401733937298485942628343152822413080437, 26215487997951507224408031480522630301245671827125972072939069272588359572284760451122208957524446729007905325070758419459422506967130005002916561115569375500199266406026719485885902602204105810591072797803742311245366604445770974073991058298008664327047350736742992241821562214101671873388678573768500820547073736590837730895946275119830373431374215716156638857008428288754204841220534864213035290826018676719092272287241845226280954124848861195889978662818148365956379298925574206586943846843591425158346005244465003663455281638260310093239937732631014921931854336425653702726606005430840088964303771874596521425599, 20156049359580693355523992101397014308662402576554318816914629504927486733747030908647733692863900454566270707397902540804275089626412957297587532543110322415080976899657782718682740524006046040566811990606729642193468063450279769793646415609544382363813292139486185046280141734437722034274762498932763873261714799080274916692067842347349516651088682709532953471118839727629637430087698555309861804663985467332977846590030246971731263283792302588814285360336907010101293233042295417263476890269791802007781278510591872800634157150444122848574526763932995421517428936031923151855608790692411561178012049322522847132847, 22933292068833983045429176816829588305263067649732993225925831065105386784743490282281868189166650830352019907164628151854550989240908270829196670638820721745760192923410212070317523143180156768494598193905360448842254894739879905088804376841757178263628902329895555010903292787617032377201974033232476640767504312105949539868845457368069909342052885337568809272984901151478397493523581863557149652488250688301613625034585562838399871585943225283723978123974142631534874346572131529036732578699449962618456778263617057779427172540693208669046173457919587692540707244545716321004815847447524636413395755492223281190457], 'avg_it': 987.2, 'avg_time': 17.01616766452789}, '4096': {'it': [1872, 2072], 'time': [228.2630136013031, 252.32332587242126], 'gen_number': [1002232559376944527906017900778843971303950067119689903832265725495148476790413861585397604682413021480776052927788719676558387531175689959053391922846948189903867567334263370803185536365938542184548811977523219230259566386244940486406914924950469188925973214474189231641323364481077363173649608888687171065010773471304528122712069595638310303674336011953113146974388900102258465412463097268887209445609839593275338314344454873617479287789996549655350133006301202440389587727154354210367249812644922433664920465466048521167440927360114922710947426668496127148582980765329828815776771806515492326098610692839514886388730982888101582263755680566568447336575245907728780696751048914099857968254000656122716199317578543576778410138771201606780360167155616814677575267883523209323709786086206218651419319448496014423267642315427142855377268964354196122260392949219705725863725211479048943061589104118619308408235782331314053274718813392183357213674842827621015973541361950061153001492382355623592719793890492826378252021243256337736235058513917997712253834866900391827313902499745027015607387976316144482964405357092916409882281596267496912576597039911463444414729114425423592224685104888338156238740385600170107289726151132873537922709241, 773772491567817417067196995309582387614582887640574701873214651026783559421635667899716739571632305593706342084005130930748605841572547607464559028629462035353189478715326808666231438524042103803267671662429730993239746640126690823291091712750090866348546484444794671375729978819176417429859738748525102219798005570111637044536183989034190722918178006514683013064351810255339303690219134797824724795864313064550430801712340329834933127208287702515460279078134849645293996494912927470419220004606459789355956234532132440358580580282096867059062531579883712818919560455186801351664834678300291904409917889044347313914773309719579104895626841577174282950490250911123034214995043191482794008054988294889858232580328617768231906877830140724909124742349451787722578463264212627008400092650001816028029298190222838815250052208247007170569424749955953315557888179248320974242143345090337650749042334116003238106222741040051148322001363392336947428196723974106320337781594232815191394639301981478730335906002293647502341112737330876759725574347923121707289595711351862889744383341051452336337318532596860530266956103372957173979671951528094631283695679388904613123447579522477644471975338780820096200601464594975293144985318852924074732732177], 'avg_it': 394.4, 'avg_time': 48.058633947372435}}, 'lfg_fermat': {'10': {'it': [423, 2, 2, 8, 2, 6, 14, 10, 2, 2], 'time': [0.0007116794586181641, 6.031990051269531e-05, 5.7220458984375e-05, 8.177757263183594e-05, 5.936622619628906e-05, 7.2479248046875e-05, 9.679794311523438e-05, 9.72747802734375e-05, 6.079673767089844e-05, 5.817413330078125e-05], 'gen_number': [937, 599, 709, 1021, 811, 821, 823, 733, 523, 761], 'avg_it': 47.1, 'avg_time': 0.0001355886459350586}, '20': {'it': [431, 2, 2, 2, 82, 2, 2, 14, 2, 2], 'time': [0.0007231235504150391, 8.320808410644531e-05, 8.225440979003906e-05, 8.606910705566406e-05, 0.000431060791015625, 8.630752563476562e-05, 8.7738037109375e-05, 0.00013256072998046875, 8.392333984375e-05, 9.036064147949219e-05], 'gen_number': [750917, 857419, 636241, 611671, 587341, 955987, 996953, 1021571, 538249, 775823], 'avg_it': 54.1, 'avg_time': 0.0001886606216430664}, '40': {'it': [431, 70, 18, 62, 10, 10, 8, 2, 16, 34], 'time': [0.0008797645568847656, 0.0006308555603027344, 0.0002982616424560547, 0.000583648681640625, 0.00025272369384765625, 0.0002448558807373047, 0.00023436546325683594, 0.00017952919006347656, 0.00028061866760253906, 0.0004036426544189453], 'gen_number': [785979016517, 914828035607, 614180324941, 708669605639, 923417970469, 794568951619, 554050783067, 871878362977, 940597839761, 1052266989559], 'avg_it': 66.1, 'avg_time': 0.00039882659912109374}, '56': {'it': [479, 42, 20, 2, 34, 54, 36, 154, 14, 16], 'time': [0.0012705326080322266, 0.0005087852478027344, 0.00035762786865234375, 0.00021719932556152344, 0.00044989585876464844, 0.0006093978881835938, 0.0005006790161132812, 0.0012829303741455078, 0.00028443336486816406, 0.0005207061767578125], 'gen_number': [65020719620163029, 65583669573584467, 53198770598315663, 47006321110681237, 63331869759899387, 71776119061219229, 36873221949097993, 41939771529890263, 48132221017524737, 62956569790952273], 'avg_it': 85.1, 'avg_time': 0.0006002187728881836}, '80': {'it': [479, 10, 10, 22, 66, 120, 82, 2, 28, 10], 'time': [0.001644134521484375, 0.0004706382751464844, 0.00043463706970214844, 0.000576019287109375, 0.0010704994201660156, 0.0016283988952636719, 0.0012314319610595703, 0.00036454200744628906, 0.0006365776062011719, 0.00046896934509277344], 'gen_number': [1090866657542888044365269, 949195663056798687954419, 1034198259748452301800977, 1100311390508627334792787, 845303600433666493253401, 807524668570709331544193, 1156979788303063077357943, 750856270776273588980093, 731966804844795008125393, 1043642992714191592229359], 'avg_it': 82.9, 'avg_time': 0.0008525848388671875}, '128': {'it': [493, 26, 4, 58, 2, 300, 1, 9, 11, 106], 'time': [0.003002643585205078, 0.001249551773071289, 0.0008015632629394531, 0.0019178390502929688, 0.0007665157318115234, 0.009401082992553711, 0.001163482666015625, 0.0016477108001708984, 0.0017809867858886719, 0.007629871368408203], 'gen_number': [187421147405673138079436795499528586751, 190079603397242969825244409620089275981, 323002402975734557115625115648123733593, 219322619304511119029128164946256856839, 275150195127477585691088061478031329037, 297303995057226183572818179149370405841, 307937819023505510556048635631613162453, 339839290922343491505740005078341432313, 222867227293270894690204983773671109669, 307937819023505510556048635631613162957], 'avg_it': 101.0, 'avg_time': 0.002936124801635742}, '168': {'it': [437, 48, 102, 232, 18, 8, 49, 2, 18, 32], 'time': [0.0023283958435058594, 0.0026061534881591797, 0.004317283630371094, 0.008342981338500977, 0.0016329288482666016, 0.0023653507232666016, 0.006453990936279297, 0.0019195079803466797, 0.003573894500732422, 0.004767656326293945], 'gen_number': [217763743962304534812349040074726169928733948904791, 287915822554187874886125912045107754872218710967783, 261608793082231622358459585056214660518411925194521, 226532753786289952321571149071023868046669544163793, 241147770159598981503607997398186698243228869593607, 373657251944267512754075422231129692025366753489721, 245045107859148055952151156952096786295644689708029, 245045107859148055952151156952096786295644689708037, 338581212648325842717186986245938899553624372458573, 338581212648325842717186986245938899553624372458701], 'avg_it': 94.6, 'avg_time': 0.0038308143615722657}, '224': {'it': [611, 240, 36, 90, 158, 62, 146, 10, 1, 18], 'time': [0.012590885162353516, 0.01706218719482422, 0.009254693984985352, 0.018393516540527344, 0.030034303665161133, 0.017989158630371094, 0.020589113235473633, 0.002952098846435547, 0.0020415782928466797, 0.0037577152252197266], 'gen_number': [21378395208717108899677359619785097760735704366311469584625128441697, 23554849236533957424767665525247620028659536337922817883880888644433, 23554849236533957424767665525247620028659536337922817883880888644577, 26924842569927787399101042411125073862864179390740389444018839926089, 23554849236533957424767665525247620028659536337922817883880888645569, 26924842569927787399101042411125073862864179390740389444018839926969, 23695265625425367007031556228825847271751396465123550032219969949117, 16534029791963478311573130346336257874066529977886210466926823476729, 24327139375436710127219064394927869865664767037526844699745835814399, 17165903541974821431760638512438280467979900550289505134452689342059], 'avg_it': 137.2, 'avg_time': 0.013466525077819824}, '256': {'it': [591, 188, 136, 180, 215, 42, 12, 20, 72, 52], 'time': [0.01641082763671875, 0.01707005500793457, 0.023311614990234375, 0.038976430892944336, 0.04144763946533203, 0.009136438369750977, 0.004651308059692383, 0.005749702453613281, 0.013548612594604492, 0.010582447052001953], 'gen_number': [97247262445402273500264694440890235111144713684034067455013205319145792472869, 109912022205733732374717770926215475032596118256838504146828878570011291027801, 101167307133123915532833503829205190324927291289902107383432342277747018216529, 101167307133123915532833503829205190324927291289902107383432342277747018217249, 100865765234068404607251287722411732231559400704835335081246254819393077775607, 106293519417067601267731177644693977912181431236037236520595829069764005727731, 109912022205733732374717770926215475032596118256838504146828878570011291029051, 77345497107738552411838431392522000948863935069627095510731433067785723317939, 99056513839735339053757991081650983671352057194434701268129730069269435125859, 95438011051069207946771397800129486550937370173633433641896680569022149824923], 'avg_it': 150.8, 'avg_time': 0.018088507652282714}, '512': {'it': [1003, 269, 44, 773, 530, 873, 288, 514, 245, 313], 'time': [0.3228588104248047, 0.26705217361450195, 0.04316973686218262, 0.43067097663879395, 0.2682170867919922, 0.24161005020141602, 0.14635157585144043, 0.38364434242248535, 0.24835562705993652, 0.18295860290527344], 'gen_number': [11714373855457659705487201528380368166065956335439447859964205375960030812733528673742262570403635677057306480264494974118318822092208526606845024066516401, 12692026517015974077331140851166211112861326759857643210423215064564742773259724807467399237978305718659704636590592915326405042713912963998772477639877383, 11050966692257374953164528416489974737883383547441386729295591658692547696662181297285919831692252434541393445614642799727117458098909086948037109141736731, 7908511708677078757951866307535479551755407183240044531391631945320259252113693724597980543059384443676542228852185131558268891814859109616841722655940381, 8257673373519333890753273208530423461325182334817971442269849691250513523730192343785529352907480887105970141825791539132585399179753551542530098932143709, 10387559529057090200841855304599581309700810759443325598626977941425064580590833920829577092980869192025480410964790625335916094105609647289229194216978191, 9165493702109197236036931151117277626206597728920581410553215830669174629933088753673156258512531640022482715557168198825808318328479100549319877250289227, 6791194381181862332987364224351659041132126698190678416581335158343445582940898143197824351545475824702372907336644627320456068247196895454638918572141903, 12028619353815689325008467739275817684678753971859582079754601347297259657188377431011056499266922476143791601940740740935203678720613524339964562715165063, 8851248203751167616515664940221828107593800092500447190762819859331945785478239996404362329649244840935997593880922432008923461700074102816200338601763103], 'avg_it': 485.2, 'avg_time': 0.2534888982772827}, '1024': {'it': [709, 307, 404, 557, 318, 268, 1646, 381, 1851, 2025], 'time': [0.6834578514099121, 1.2865233421325684, 1.967008352279663, 1.7682833671569824, 0.8069119453430176, 0.8939206600189209, 3.913376569747925, 1.992699146270752, 3.4279944896698, 6.893271207809448], 'gen_number': [115866940332922704990365373625073859783971172470890853320765481996194888702764292644128510774207982201112573399135859000053516843181166963716093070529348556727858212558995332306991664977365646600428744871461038874446464306978540529074983059528267555202940758839674762537465998358785754649600913259328113215623, 117739537348404284060916733198812427214823231823955756000697045341587937409071594343427557412983060701332574585384519347529129236606317136867060231265176412190126628115504347778619813098211960080839714485545257684538528376586274517423669654429734505590058993325972536477465448837311585027776281554428365551077, 136933656757090469534068168829632743381056840192871008469995569631866686648721436761242785460427615328587586744433287909154156269214106411664473628807411930678377887569721756362808331336886673255052153029908500487982185090065547897997707252169770747058020896810524719362459816242201346404073806579205951983499, 139742552280312838139895208190240594527334929222468362489892914649956259708182389310191355418590233078917588523806278430367574859351831671390924369911153713871780510904485279570250553518156143475668607451034828703120281194477148880520737144521971172638698248539971380272458991959990091971336859021856330488621, 119143985110015468363830252879116352787962276338754433010645717850632723938802070617901842392064369576497575475071014608135838531675179766730285601817047303786827939782886109382340924188846695191147941696108421792107576428792075008685184600605834718380397669190695866932465036696205957811407807775753554808197, 161277417958350997451235843288234119982133611782714743309105893121976319830716358852130391764503635831447602165665872426337117383741058662627046718373174051687867289804338957493974256907888748500394758013003345019179017994966089746530632985888841102090557945132395780582452672463037141320353594415509232341557, 155659626911906260239581764567018417689577433723520035269311203085797173711794453754233251848178400330787598606919891383910280203465608143174145236165690485301062043134811911079089812545349808059161849170750688588902825786142887781484573201184440250929203241673502458762454321027459650185827489530208475381089, 113526194063570731152176174157900650495406098279559724970851027814453577819880165520004702475739134075837571916325033565709001351399729247277384119609563737400022693113359062967456479826307754749915032853855765361831384219968873043639124815901433867219042965731802545112466685260628466676881702890452797870863, 144424044819016785816273607124587013104465077605130619189721823013438881473950643558438972015527929329467591489427929299056605842914707104268342271750723352527451549795757818249320923820271927176696031486245375728350441368496483851392453631775638548606493834755715815122457618156304667916775279759606961673753, 108376552270996388708159935330119590060562935058631242601039228614622693877535085846932324219107668200232568654141217610151067269480566271112224427586037134878784550332959270420479072493980392678784866415124163634078208028547604575680236679922399753654467820894483666777468196444682433136899440078927106232593], 'avg_it': 846.6, 'avg_time': 2.363344693183899}, '2048': {'it': [759, 876, 5629, 1295], 'time': [5.121039390563965, 25.74667716026306, 95.72752046585083, 24.919397830963135], 'gen_number': [32190767766344948678446459201604834960598617893661907922629836265698386954731688194395649843509152082971183906387046855355470654622559315934560464291188719514690913002584976575766798540427192528253885538234129804338210999038547022739330914282466497929680936297926788226313796298214733520292679147564852532453469355524864950458104174103804551645266894097688328612538439230974264371643192891048109145235801424863732886516436615727295232593112967600089620669431594702980144725004918568280918206798310497987375110773701007708737223841523494737284995771208228595951634939591693551502172703297901553864674776057891394685213, 19314460659806969207067875520962900976359170736197144753577901759419032172839012916637389906105491249782710343832228113213282392773535589560736278574713231708814547801550985945460079124256315516952331322940477882602926599423128213643598548569479898757808561778756072935788277778928840112175607488538911519472081613314918970274862504462282730987160136458612997167523063538584558622985915734628865487141480854918239731909861969436377139555867780560053772401658956821788086835002951140968550924078986298792425066464220604625242334304914096842370997462724937157570980963755016130901303621978740932318804865634734836814997, 20576843709467555429752050391614070974814018496732905848582993377681714014201039904652905586243105056958050889180739754599771438052851641166013159527308867768214191448711181105294071223880911302374052324439855521988738795463855547868670349129576624166815657319851241101526073712192162995324340004129690050156531391962952889900670511289882909483052955834992931622916727822152176833638589965650359963425237773540346903930114385739408325147754563603194541839675882104257896432061967555410939873365194553615459384533777506888330068573209135851676291414537024553490652922170376662332761375049246875607615641166416853020283, 17799601000214265739846865676181496978213353423554231439571791817503813963204580531018771089940354681172301689414014143549495538438356327634404021431598468437534975424958751753659288604706800574446266121141224715339951964174255412573512387897363828267000047129441871136902922659012852652397128469829977282650741878937278266723892896269162516792088753206957075821050666398303416770202706657403072115600972552571711125485559069872739716845603640908284849076038646482824315318532131443637684184935536393004783884780752321909537053182960050031204644720550432282467374613656583493183554318294133800372231934996716420644491], 'avg_it': 855.9, 'avg_time': 15.151463484764099}, '4096': {'it': [10012, 1260], 'time': [1231.816501379013, 181.31823778152466], 'gen_number': [1034869711921105543740135172988738483259573949902420646969273021847772036414525032111923442555381695178928868762614946640245499201118996009280368050592303354839678722851254308251321836057638033381874689165393717549833826349976119009709175383836237520722748461621245597393550991004206069708476733194424609471469740314332083991022910396581755958068072869872888880390108484366104059944212234764753278681287771954521753673291899808443557310730240670675334397853182109982546100760331700887502682642364702811423343927028036532711563834085546073518359554538297900624249183666778832739221334253403378100625566807667395968170724936197890507602059800422196185106015959478672458765573335445902295676853859564870267337422899961549427910604619924589904822370699354675671146239971996149654468313719949704740475036771106468081555869473595733667492675280696802237503607916358474976095379763820293413391952928404707318451380502515780182553678449106447130040171716949551686778649900195382004659614250980501430203206445949851931953579601245689304307841966202979998677297603407324532680976665272680541217397896847470761921183821910053443582654402658840095618440091414686134599197905125844441903643642903697879101331660029483652167546270030009175531174699, 528993847486609798311317453735373547947403766770094128345659928382106862240801888950772955524367252857560223322808428703095268316997752230762238070539298298334605812337894777805209190836295919823323592753400993596432796912142851898524138271106828377872732130841871928234022779895711118418656306455494314171355754247404968032204877981958348314965151572116365012446454928276497344702100603578829205528279820355202315609606503318639347955156456794865578292726528043079120148746082827391903473781708106956167780272817222353777658779841363236003471572556370411751423038694319271925830616326641148595457747027835239200549818659896162164858345942659966249679684899129045448698827894202964511193556046479283224696790417982973360653383964718351475658215771417830270796172600665574527711135396925670360111418270644436378088348521982576079703877377386407451233775925707551597504734202531004123271313651970343162782637339656555178729804095535358651229470168059626289299467557392908803958725287294894949210311836365955849579425052410739999179698455785754559113625187549867599491327099594050894262244128611913438091117617244429421226875903593020758469872793114734436739931649269321271879786303665622174731166906375123706561334427124406792774236793], 'avg_it': 1127.2, 'avg_time': 141.31347391605377}}}\n",
            "{'lcg_miller_rabin': {'10': {'avg_it': 13.0, 'avg_time': 0.00012950897216796876}, '20': {'avg_it': 19.0, 'avg_time': 0.00019783973693847655}, '40': {'avg_it': 33.4, 'avg_time': 0.0005666494369506836}, '56': {'avg_it': 104.2, 'avg_time': 0.0014313220977783202}, '80': {'avg_it': 123.0, 'avg_time': 0.0028451919555664063}, '128': {'avg_it': 120.2, 'avg_time': 0.005712103843688965}, '168': {'avg_it': 111.4, 'avg_time': 0.008285331726074218}, '224': {'avg_it': 327.0, 'avg_time': 0.034075593948364256}, '256': {'avg_it': 232.2, 'avg_time': 0.02912118434906006}, '512': {'avg_it': 867.4, 'avg_time': 0.43725612163543703}, '1024': {'avg_it': 2330.6, 'avg_time': 6.250719761848449}, '2048': {'avg_it': 1115.8, 'avg_time': 19.338740158081055}, '4096': {'avg_it': 1888.6, 'avg_time': 226.9821289539337}}, 'lfg_miller_rabin': {'10': {'avg_it': 54.9, 'avg_time': 0.00020031929016113282}, '20': {'avg_it': 65.3, 'avg_time': 0.0002941608428955078}, '40': {'avg_it': 130.6, 'avg_time': 0.0013652324676513671}, '56': {'avg_it': 159.4, 'avg_time': 0.0020219564437866213}, '80': {'avg_it': 156.4, 'avg_time': 0.00453653335571289}, '128': {'avg_it': 276.1, 'avg_time': 0.010442900657653808}, '168': {'avg_it': 283.3, 'avg_time': 0.01602320671081543}, '224': {'avg_it': 418.3, 'avg_time': 0.0352557897567749}, '256': {'avg_it': 378.0, 'avg_time': 0.03873364925384522}, '512': {'avg_it': 737.2, 'avg_time': 0.3739464521408081}, '1024': {'avg_it': 1657.0, 'avg_time': 4.5802511215209964}, '2048': {'avg_it': 1579.7, 'avg_time': 27.367854714393616}, '4096': {'avg_it': 1620.9, 'avg_time': 199.73446424007415}}, 'lcg_fermat': {'10': {'avg_it': 5.6, 'avg_time': 6.549358367919922e-05}, '20': {'avg_it': 11.2, 'avg_time': 0.00011763572692871093}, '40': {'avg_it': 24.8, 'avg_time': 0.0003766536712646484}, '56': {'avg_it': 38.8, 'avg_time': 0.0006109952926635742}, '80': {'avg_it': 62.6, 'avg_time': 0.0013836145401000977}, '128': {'avg_it': 75.8, 'avg_time': 0.003470158576965332}, '168': {'avg_it': 77.6, 'avg_time': 0.0054775714874267575}, '224': {'avg_it': 146.0, 'avg_time': 0.015770769119262694}, '256': {'avg_it': 167.8, 'avg_time': 0.020894861221313475}, '512': {'avg_it': 350.0, 'avg_time': 0.18193962574005126}, '1024': {'avg_it': 879.2, 'avg_time': 2.398236298561096}, '2048': {'avg_it': 987.2, 'avg_time': 17.01616766452789}, '4096': {'avg_it': 394.4, 'avg_time': 48.058633947372435}}, 'lfg_fermat': {'10': {'avg_it': 47.1, 'avg_time': 0.0001355886459350586}, '20': {'avg_it': 54.1, 'avg_time': 0.0001886606216430664}, '40': {'avg_it': 66.1, 'avg_time': 0.00039882659912109374}, '56': {'avg_it': 85.1, 'avg_time': 0.0006002187728881836}, '80': {'avg_it': 82.9, 'avg_time': 0.0008525848388671875}, '128': {'avg_it': 101.0, 'avg_time': 0.002936124801635742}, '168': {'avg_it': 94.6, 'avg_time': 0.0038308143615722657}, '224': {'avg_it': 137.2, 'avg_time': 0.013466525077819824}, '256': {'avg_it': 150.8, 'avg_time': 0.018088507652282714}, '512': {'avg_it': 485.2, 'avg_time': 0.2534888982772827}, '1024': {'avg_it': 846.6, 'avg_time': 2.363344693183899}, '2048': {'avg_it': 855.9, 'avg_time': 15.151463484764099}, '4096': {'avg_it': 1127.2, 'avg_time': 141.31347391605377}}}\n"
          ],
          "name": "stdout"
        },
        {
          "output_type": "execute_result",
          "data": {
            "text/html": [
              "<div>\n",
              "<style scoped>\n",
              "    .dataframe tbody tr th:only-of-type {\n",
              "        vertical-align: middle;\n",
              "    }\n",
              "\n",
              "    .dataframe tbody tr th {\n",
              "        vertical-align: top;\n",
              "    }\n",
              "\n",
              "    .dataframe thead th {\n",
              "        text-align: right;\n",
              "    }\n",
              "</style>\n",
              "<table border=\"1\" class=\"dataframe\">\n",
              "  <thead>\n",
              "    <tr style=\"text-align: right;\">\n",
              "      <th></th>\n",
              "      <th>avg_it_lcg_fer</th>\n",
              "      <th>avg_time_lcg_fer</th>\n",
              "      <th>avg_it_lfg_fer</th>\n",
              "      <th>avg_time_lfg_fer</th>\n",
              "    </tr>\n",
              "  </thead>\n",
              "  <tbody>\n",
              "    <tr>\n",
              "      <th>10</th>\n",
              "      <td>5.6</td>\n",
              "      <td>0.000065</td>\n",
              "      <td>47.1</td>\n",
              "      <td>0.000136</td>\n",
              "    </tr>\n",
              "    <tr>\n",
              "      <th>20</th>\n",
              "      <td>11.2</td>\n",
              "      <td>0.000118</td>\n",
              "      <td>54.1</td>\n",
              "      <td>0.000189</td>\n",
              "    </tr>\n",
              "    <tr>\n",
              "      <th>40</th>\n",
              "      <td>24.8</td>\n",
              "      <td>0.000377</td>\n",
              "      <td>66.1</td>\n",
              "      <td>0.000399</td>\n",
              "    </tr>\n",
              "    <tr>\n",
              "      <th>56</th>\n",
              "      <td>38.8</td>\n",
              "      <td>0.000611</td>\n",
              "      <td>85.1</td>\n",
              "      <td>0.000600</td>\n",
              "    </tr>\n",
              "    <tr>\n",
              "      <th>80</th>\n",
              "      <td>62.6</td>\n",
              "      <td>0.001384</td>\n",
              "      <td>82.9</td>\n",
              "      <td>0.000853</td>\n",
              "    </tr>\n",
              "    <tr>\n",
              "      <th>128</th>\n",
              "      <td>75.8</td>\n",
              "      <td>0.003470</td>\n",
              "      <td>101.0</td>\n",
              "      <td>0.002936</td>\n",
              "    </tr>\n",
              "    <tr>\n",
              "      <th>168</th>\n",
              "      <td>77.6</td>\n",
              "      <td>0.005478</td>\n",
              "      <td>94.6</td>\n",
              "      <td>0.003831</td>\n",
              "    </tr>\n",
              "    <tr>\n",
              "      <th>224</th>\n",
              "      <td>146.0</td>\n",
              "      <td>0.015771</td>\n",
              "      <td>137.2</td>\n",
              "      <td>0.013467</td>\n",
              "    </tr>\n",
              "    <tr>\n",
              "      <th>256</th>\n",
              "      <td>167.8</td>\n",
              "      <td>0.020895</td>\n",
              "      <td>150.8</td>\n",
              "      <td>0.018089</td>\n",
              "    </tr>\n",
              "    <tr>\n",
              "      <th>512</th>\n",
              "      <td>350.0</td>\n",
              "      <td>0.181940</td>\n",
              "      <td>485.2</td>\n",
              "      <td>0.253489</td>\n",
              "    </tr>\n",
              "    <tr>\n",
              "      <th>1024</th>\n",
              "      <td>879.2</td>\n",
              "      <td>2.398236</td>\n",
              "      <td>846.6</td>\n",
              "      <td>2.363345</td>\n",
              "    </tr>\n",
              "    <tr>\n",
              "      <th>2048</th>\n",
              "      <td>987.2</td>\n",
              "      <td>17.016168</td>\n",
              "      <td>855.9</td>\n",
              "      <td>15.151463</td>\n",
              "    </tr>\n",
              "    <tr>\n",
              "      <th>4096</th>\n",
              "      <td>394.4</td>\n",
              "      <td>48.058634</td>\n",
              "      <td>1127.2</td>\n",
              "      <td>141.313474</td>\n",
              "    </tr>\n",
              "  </tbody>\n",
              "</table>\n",
              "</div>"
            ],
            "text/plain": [
              "      avg_it_lcg_fer  avg_time_lcg_fer  avg_it_lfg_fer  avg_time_lfg_fer\n",
              "10               5.6          0.000065            47.1          0.000136\n",
              "20              11.2          0.000118            54.1          0.000189\n",
              "40              24.8          0.000377            66.1          0.000399\n",
              "56              38.8          0.000611            85.1          0.000600\n",
              "80              62.6          0.001384            82.9          0.000853\n",
              "128             75.8          0.003470           101.0          0.002936\n",
              "168             77.6          0.005478            94.6          0.003831\n",
              "224            146.0          0.015771           137.2          0.013467\n",
              "256            167.8          0.020895           150.8          0.018089\n",
              "512            350.0          0.181940           485.2          0.253489\n",
              "1024           879.2          2.398236           846.6          2.363345\n",
              "2048           987.2         17.016168           855.9         15.151463\n",
              "4096           394.4         48.058634          1127.2        141.313474"
            ]
          },
          "metadata": {
            "tags": []
          },
          "execution_count": 193
        }
      ]
    },
    {
      "cell_type": "code",
      "metadata": {
        "colab": {
          "base_uri": "https://localhost:8080/"
        },
        "id": "a88iA_98Ad05",
        "outputId": "c64535e8-5f1d-4e18-f7bc-bf9ac2878ed6"
      },
      "source": [
        "copy_primes_info = dict()\n",
        "with open('primes_info.json') as file:\n",
        "  copy_primes_info = json.load(file)\n",
        "# print(copy_primes_info)\n",
        "for generator_string in generators_string:\n",
        "  print(generator_string)\n",
        "  for bit_len in bit_len_list:\n",
        "    print(copy_primes_info[generator_string][str(bit_len)]['gen_number'])"
      ],
      "execution_count": 179,
      "outputs": [
        {
          "output_type": "stream",
          "text": [
            "lcg_miller_rabin\n",
            "[619, 827, 599, 523, 911, 607, 739, 919, 947, 719]\n",
            "[868267, 933851, 802811, 835603, 819239, 852031, 573523, 933979, 720991, 557159]\n",
            "[943461150659, 977820889051, 840381935611, 823202066447, 565504028731, 943461150787, 1063720235191, 771662459083, 1012180627699, 788842328311]\n",
            "[65208369604636679, 64082469697794139, 38186771840413799, 53949370536210703, 71963769045692879, 62956569790951919, 70837869138850339, 69711969232007863, 66334269511480051, 37060871933572027]\n",
            "[659557185440793781514323, 754004515098186685788463, 1056235970001843979465199, 772893981029665266643483, 1037346504070365398610499, 1131793833727758302884511, 867341310687058170917623, 980678106275929656046399, 621778253577836619805627, 867341310687058170918007]\n",
            "[212233403326991567706974527291428351919, 196282667377572577232128842568064217067, 339839290922343491505740005078341431503, 270719435141527866114742037943763513619, 297303995057226183572818179149370405359, 318571642989784837539279092113855918751, 276036347124667529606357266184884892479, 254768699192108875639896353220399379343, 217550315310131231198589755532549731227, 302620907040365847064433407390491784283]\n",
            "[332735206099002231044372246915073767475000642285659, 373657251944267512754075422231129692025366753489231, 227507088211177220933706938959501390059773499191683, 280121147155089725989039592937287578767387070738831, 221661081661853609260892199628636257981149769019927, 321043193000355007698742768253343503317753181942467, 361965238845620289408445943569399427868119293145911, 215815075112529997588077460297771125902526038848363, 274275140605766114316224853606422446688763340567523, 227507088211177220933706938959501390059773499192323]\n",
            "[25239845903230872411934353968186346945761857864331603663949864284191, 20606105069814356197225960750104847923730473666707442768760181272699, 19342357569791669956850944417900802735903732521900853433708449542903, 15972364236397839982517567532023348901699089469083281873570498262039, 16814862569746297476100911753492712360250250232287674763604986082351, 20606105069814356197225960750104847923730473666707442768760181273851, 25661095069905101158726026078921028675037438245933800108967108195723, 18921108403117441210059272307166121006628152140298656988691205633739, 21448603403162813690809304971574211382281634429911835658794669095827, 23554849236533957424767665525247620028659536337922817883880888646767]\n",
            "[64982279246462604462967571013990219120780421081889431121101847275274165203327, 64982279246462604462967571013990219120780421081889431121101847275274165203967, 104785809921790046639820097110726687445341978310703375009665391777994303517703, 86693295978459391104887130703119201843268543206697036878500144276757877011599, 64982279246462604462967571013990219120780421081889431121101847275274165204479, 74028536218127932230434054217793961921817138633892600186684471025892378457627, 112022815499122308853793283673769681686171352352305910262131490778488874120759, 90311798767125522211873723984640698963683230227498304504733193777005162313511, 101167307133123915532833503829205190324927291289902107383432342277747018217327, 59554525063463407802487681091707973440158390550687529681752273024903237253307]\n",
            "[10666888860930894307082980825395536437356630880705667127329552138169267997884032816179616140859346346769022741343675751395369299997525200829779895237914643, 8781415870782716589955383560022839325679845062184861808587176310145894931154940272566852567679625552250112011286201150494060160227095214431062663346434119, 8571918871877363510274539419425872979937979971238105662060245662587742368185041101054323281770767686192455263502037305949470255808158549275649637580714139, 10666888860930894307082980825395536437356630880705667127329552138169267997884032816179616140859346346769022741343675751395369299997525200829779895237917331, 9828900865309481988359604263007671054389170516918642541221829547936657746004436130129498997223914882538395750207020373217009682321778540208127792175038307, 9619403866404128908678760122410704708647305425971886394694898900378505183034536958616969711315057016480739002422856528672419777902841875052714766409319159, 12133367853268365864848889809574300857549686517332960153018066671076335938673327016767321142221351409172619975832822663207498630930081856917671075597960583, 6895942880634538872827786294650142214003059243664056489844800482122521864425847728954088994499904757731201281228726549592751020456665228032345431454959419, 7733930876255951191551162857038007596970519607451081075952523072355132116305444415004206138135336221961828272365381927771110638132411888653997534517841643, 12761858849984425103891422231365199894775281790173228592598858613750793627583024531304908999947925007345590219185314196841268344186891852383910152895123851]\n",
            "[100886164209070072425954497035165320337154697646371631881312975233050499052305879049736137664007354199352563909146576220248617695779965578508355784642725713029710888106923208533966480010595138757140987958787288393709951750116668622285490300316531952105994882949292571017470394530579111624197966898526094539647, 157064074673517444542495284247322343262716478238318712279259875594841960241524930028707536827259709205952599496606386644516989498534470773037370606717561376897763354802193672682810923635984543169470076381313852696471873838348688272746088147360540463719541917538225789217453908886354022969459015751533664583151, 128975119441293758484224890641243831799935587942345172080286425413946229646915404539221837245633531702652581702876481432382803597157218175772863195680143544963737121454558440608388701823289840963305532170050570545090912794232678447515789223838536207912768400243759180117462151708466567296828491325029879562231, 171108552289629287571630481050361598994106923386305482378746600685289825538829692773450386618072797957602608393471339250584082449223097071669624312236270292864776471476011288720022034542331894272552348486945493772162354360406693185361237609121542591622928676185459093767449787475297750805774277964785557097227, 120548432871626652666743772559420278361101320853553110020594390359677510468532546892376127371145678451662576364757509868742547826744042396593510972368918195383529251450267870986062035279481430301456168906671585899676624480997875499946699546781934931170736345055419197387464624555100330595039333997078744058931, 95268373162625335214300418313949618044598519587176923841518285196871352933383973951838997747682118698692560350400595177821780515504515059055454302435242146642905641437396162119082035648056198315908079116534631963433759541293466657239430515612131100944640179490399249197472043095001620489671862013225337543911, 157064074673517444542495284247322343262716478238318712279259875594841960241524930028707536827259709205952599496606386644516989498534470773037370606717561376897763354802193672682810923635984543169470076381313852696471873838348688272746088147360540463719541917538225789217453908886354022969459015751533664595439, 168299656766406918965803441689753747847828834356708128358849255667200252479368740224501816659910180207272606614098348729370663859085371811943173571132528509671373848141247765512579812361062424051935894065819165557024258255995092202838207716769342166042251324456012432857450611757509005238511225522135178604447, 103695059732292441031781536395773171483432786675968985901210320251140072111766831598684707622169971949682565688519566741462036285917690838234806525746467496223113511441686731741408702191864608977757442379913616608848047854528269604808520192668732377686672234678739231927469570248367857191461019341176473059307, 120548432871626652666743772559420278361101320853553110020594390359677510468532546892376127371145678451662576364757509868742547826744042396593510972368918195383529251450267870986062035279481430301456168906671585899676624480997875499946699546781934931170736345055419197387464624555100330595039333997078744074931]\n",
            "[26215487997951507224408031480522630301245671827125972072939069272588359572284760451122208957524446729007905325070758419459422506967130005002916561115569375500199266406026719485885902602204105810591072797803742311245366604445770974073991058298008664327047350736742992241821562214101671873388678573768500820547073736590837730895946275119830373431374215716156638857008428288754204841220534864213035290826018676719092272287241845226280954124848861195889978662818148365956379298925574206586943846843591425158346005244465003663455281638260310093239937732631014921931854336425653702726606005430840088964303771874596521425599, 20156049359580693355523992101397014308662402576554318816914629504927486733747030908647733692863900454566270707397902540804275089626412957297587532543110322415080976899657782718682740524006046040566811990606729642193468063450279769793646415609544382363813292139486185046280141734437722034274762498932763873261714799080274916692067842347349516651088682709532953471118839727629637430087698555309861804663985467332977846590030246971731263283792302588814285360336907010101293233042295417263476890269791802007781278510591872800634157150444122848574526763932995421517428936031923151855608790692411561178012049322522847132847, 21165955799309162333671331997917950307426280784982927692918702799537632206836652499060146236973991500306543143676711853913466325849865798581809037305186831262600691817385938846549934203705722668904188791806231753702117820282861637173703856057621762691018968572362319578870378481048380340793748511405386697809274621998702052392714247809429659447802938210636901035433771154483731998609837940127057385690991002230663584206232180014156211757301729023326900910750447236077140910689508548817388049698758405866208732966237394611104344565080154056018761925382665338253166502764211577000774993148816315809060669747868459521607, 26215487997951507224408031480522630301245671827125972072939069272588359572284760451122208957524446729007905325070758419459422506967130005002916561115569375500199266406026719485885902602204105810591072797803742311245366604445770974073991058298008664327047350736742992241821562214101671873388678573768500820547073736590837730895946275119830373431374215716156638857008428288754204841220534864213035290826018676719092272287241845226280954124848861195889978662818148365956379298925574206586943846843591425158346005244465003663455281638260310093239937732631014921931854336425653702726606005430840088964303771874596521433919]\n",
            "[928798966152582242279254038306581319403796330858545731773999308701745467636163727900714469468233505659932217299429709008262386273803251346042695635419899068798292467421033761544878862059614686990565588304814598011217481467849788808976828892457490442383228908393312408698811204804037773470288579200777934650478098074492527419012677793515557581288428081633617746789019835508605877716027537903188553665334491780470903756712703770258803736174447277360385537100819160470537433402505324186812525945775416583708467676951575495193164387227894833394270138961442136828334024237069569988026506301017749333412959434476782452379244587941076500252571410891406037355333640373105505041900904217544373123904318111440726138580605353138317034090611574894750320209182206627442040580684459093579503098910283374951043955472622493692119131209547813528117604752583332362963159273157474912842502468711248884818270499474921285811160161916265262397059633035089868354056876053277006662047150898089236770718177949648458382115640714518882423514937780296708071295746276787567801043709759793240237985627307806582984865655120660355311653811254358084056442781886974750732450174029212391499674335349476680447028394353778779797910018134214631314630883614318353325939419, 912480389880501734362195402201634063425984389467180360205495660525433687824108142637451550531749168810855809382016595526418830438831598320929207571547221486330386889662538292820810712213764941391902649710879348851430351485984199547325698663014606276484841284819784225822697391542473420202875017047909215447248614652978749484857257393043834754091559652673729880081160043376683080450152969155255519047495525599847696077238981302845764724704325216850393404677378706699459176885916650848244809530915526394829255946170581489421102933865179257990564075026541250090500922786345068026304225077573806446149481377062841911488247611286182037583419350963592168470613283587633666007489760951643154269604388657066950569527944644151992283857687213403188089107410337696945255094640222623414123835093411631906516096811317266862975017630463518122059901594412029305341551789588090287726675192540626649653088587331877280789587801824032197757579815177957981940808438992311671259492881775428810941657243637209539640409362986006105572735758785620924034904020134296424589312341506326887554448544543979820179860694854997215833264578845789567206256378691303159211528648277601046407439939999266255607549125346098918366614380919557858875720824165750534526663023]\n",
            "lfg_miller_rabin\n",
            "[599, 811, 823, 523, 991, 691, 647, 859, 971, 571]\n",
            "[857419, 611671, 955987, 1021571, 775823, 923387, 677639, 530267, 825203, 710623]\n",
            "[914828035607, 708669605639, 794568951619, 554050783067, 1052266989559, 811748821007, 949187774959, 800295576287, 648540064943, 854698495199]\n",
            "[65583669573584467, 53198770598315663, 63331869759899387, 41939771529890263, 51509920738053199, 42502721483312303, 56013520365423839, 71776119061220887, 45880421203841387, 37999121855943583]\n",
            "[949195663056798687954419, 1100311390508627334792787, 1156979788303063077357943, 1043642992714191592229359, 1090866657542888044367359, 1166424521268802367786639, 996419327885495140093979, 883082532296623654965443, 1109756123474366625222899, 769745736707752169837291]\n",
            "[187421147405673138079436795499528586751, 219322619304511119029128164946256856839, 280467107110617249182703289719152708891, 275150195127477585691088061478031331943, 224639531287650782520743393187378239563, 288442475085326744420126132080834780507, 329205466956064164522509548596098681543, 222867227293270894690204983773671116503, 339839290922343491505740005078341443131, 217550315310131231198589755532549742823]\n",
            "[217763743962304534812349040074726169928733948904791, 287915822554187874886125912045107754872218710967783, 241147770159598981503607997398186698243228869593607, 343452884772762185777865935688326509619144147602547, 325914865124791350759421717695731113383272957087351, 320068858575467739086606978364865981304649226916707, 355144897871409409123495414350056773776391607948347, 358067901146071214959902784015489339815703473035663, 285967153704413337661854332268152710846010800921031, 250891114408471667624965896282961918374268419892799]\n",
            "[24327139375436710127219064394927869865664767037526844699745835814399, 17165903541974821431760638512438280467979900550289505134452689342059, 14427783958592334577614769792662849227688628069875228241840603930091, 24818596736556643665142681857451665216486277482729407218932620386687, 18359442847551802881003709492853212034260711631495728395334880447047, 15902156041952135191385622180234235280153159405482915799400957643907, 26854634375482082607969097059335960241318249327140023369849299312391, 26854634375482082607969097059335960241318249327140023369849299313591, 26854634375482082607969097059335960241318249327140023369849299314311, 15902156041952135191385622180234235280153159405482915799400957660707]\n",
            "[100865765234068404607251287722411732231559400704835335081246254819393077775607, 106293519417067601267731177644693977912181431236037236520595829069764005727731, 109912022205733732374717770926215475032596118256838504146828878570011291029051, 77345497107738552411838431392522000948863935069627095510731433067785723317939, 99056513839735339053757991081650983671352057194434701268129730069269435125859, 95438011051069207946771397800129486550937370173633433641896680569022149824923, 61966860255907495207145409946055638187101515231221708099240972691734760789227, 79456290401127128890913944140076207602439169165094501626034045276263306414063, 60760692659685451504816545518881805813629952890954618890496622858318999049679, 79154748502071617965331728033282749509071278580027729323847957817909366001227]\n",
            "[12692026517015974077331140851166211112861326759857643210423215064564742773259724807467399237978305718659704636590592915326405042713912963998772477639877383, 11050966692257374953164528416489974737883383547441386729295591658692547696662181297285919831692252434541393445614642799727117458098909086948037109141736731, 10387559529057090200841855304599581309700810759443325598626977941425064580590833920829577092980869192025480410964790625335916094105609647289229194216978191, 9165493702109197236036931151117277626206597728920581410553215830669174629933088753673156258512531640022482715557168198825808318328479100549319877250289227, 6791194381181862332987364224351659041132126698190678416581335158343445582940898143197824351545475824702372907336644627320456068247196895454638918572141903, 12028619353815689325008467739275817684678753971859582079754601347297259657188377431011056499266922476143791601940740740935203678720613524339964562715165063, 8851248203751167616515664940221828107593800092500447190762819859331945785478239996404362329649244840935997593880922432008923461700074102816200338601763103, 9898733198277933014919885643206659836303125547234227923397473097122708600327735853967008759193534171224281332801741654731872983794757428593265467430420043, 7524433877350598111870318716441041251228654516504324929425592424796979553335545243491676852226478355904171524581218083226520733713475223498584508752454391, 10631972694446668793802840135296042046399653365547874436241730363576242570722382954260861259874536702426079950046315110637937649261035756637211057611164067]\n",
            "[115866940332922704990365373625073859783971172470890853320765481996194888702764292644128510774207982201112573399135859000053516843181166963716093070529348556727858212558995332306991664977365646600428744871461038874446464306978540529074983059528267555202940758839674762537465998358785754649600913259328113215623, 136933656757090469534068168829632743381056840192871008469995569631866686648721436761242785460427615328587586744433287909154156269214106411664473628807411930678377887569721756362808331336886673255052153029908500487982185090065547897997707252169770747058020896810524719362459816242201346404073806579205951983499, 113526194063570731152176174157900650495406098279559724970851027814453577819880165520004702475739134075837571916325033565709001351399729247277384119609563737400022693113359062967456479826307754749915032853855765361831384219968873043639124815901433867219042965731802545112466685260628466676881702890452797870863, 144424044819016785816273607124587013104465077605130619189721823013438881473950643558438972015527929329467591489427929299056605842914707104268342271750723352527451549795757818249320923820271927176696031486245375728350441368496483851392453631775638548606493834755715815122457618156304667916775279759606969243147, 152850731388683891633754725206410566543299344693922681249413858067707600652333501205284681890015782580457596827546900862696861613327882883447694495061948702107659419800048387871647590364080337838545394749624360373764729681731286798961543308832239825348525889944055797852455145309670904618564437087558104787571, 95736522416495729981938258207384259902311534425443149511501176033219615109960799376663759407375888323747560646962760264690683613860802602343196092619199110508472745326523415986989072678267776686010821520055686665956775558695400154326602164337497838541419738111973692682471905714633078084215704087000413801291, 94332074654884545679024738527080334329172489910644472501552503524174828580230323102189474428294579448582559757276265004083974318791939972479970722067328218911771433659141654383267961587633041575702594309492522558387727506489599663065087218161397625751081062247250362227472317855738705300584177865675440231279, 124761776156460205575484331600332055080518454397949141050440407886811870057723975715798982308389605077157579033816995650562675711950630286183187084024530870173633186452413155797225368551385635632380850538361078222383768637615276973731244385310235569541752372649589188752463388131783448945933912661056077112347, 175321895574462840480371040091273375713524056930701513408592618212424185128021121596873241555316724583097611062530825032404210334429684961259300423891882967654880406478156573531185367814236099603477030118634986094869498517024094659145782447649843229993944703779629085132448551051980869156668856628763546548471, 141147000041924022442808727870544520100473973737267039499841587159001046237912865584665640397671541954082589413492773690974284154420694301254149740463024605468481822571867041173971664608790878585976834661597992810689329246682949371782252090698071385429036924404694710727458579818884464754968385243184780169319]\n",
            "[20576843709467555429752050391614070974814018496732905848582993377681714014201039904652905586243105056958050889180739754599771438052851641166013159527308867768214191448711181105294071223880911302374052324439855521988738795463855547868670349129576624166815657319851241101526073712192162995324340004129690050156531391962952889900670511289882909483052955834992931622916727822152176833638589965650359963425237773540346903930114385739408325147754563603194541839675882104257896432061967555410939873365194553615459384533777506888330068573209135851676291414537024553490652922170376662332761375049246875607615641166416853020283, 17799601000214265739846865676181496978213353423554231439571791817503813963204580531018771089940354681172301689414014143549495538438356327634404021431598468437534975424958751753659288604706800574446266121141224715339951964174255412573512387897363828267000047129441871136902922659012852652397128469829977282650741878937278266723892896269162516792088753206957075821050666398303416770202706657403072115600972552571711125485559069872739716845603640908284849076038646482824315318532131443637684184935536393004783884780752321909537053182960050031204644720550432282467374613656583493183554318294133800372231934996716420644491, 21418432409241279578208166972048184307117250337090079911919721123190168575109057896663249373001514261741611252746414182190764134905729008902864413495705958474480620546817977878516732623630641825988532992106107281579280259491007104018718216169641107772820387680581353212017937667701044917423495014523542403946164577728308836317875849174949695146981502085912887926512504011197255640740372786331356280947742385955085018610282663274762448875679085631955054798353832292571102830101311831705865839556000056830815596580148775063721891418739161857879820715745082817437100894447283683287066543762917504466822824854205068958519, 26467964607883624468944866454652864300936641379233124291940087596240895940557165848725312093551969490442973434140460747736720316022993215323971937306088502712079195135458758517852701022129024967675416998103617839122529043653916440919005418410028009408848769844962025874969121400754336450018425076886656526683963692320444514821107876485350409130552779591432625748087161145467728483351069710417334186082770060443513706691292328486887191243226217804518132550421533422450341218337377489475421636700833076122952868858376384116072828491919317895100996522993432401115788728108725809012897556044941277622065926980934636406539]\n",
            "[1034869711921105543740135172988738483259573949902420646969273021847772036414525032111923442555381695178928868762614946640245499201118996009280368050592303354839678722851254308251321836057638033381874689165393717549833826349976119009709175383836237520722748461621245597393550991004206069708476733194424609471469740314332083991022910396581755958068072869872888880390108484366104059944212234764753278681287771954521753673291899808443557310730240670675334397853182109982546100760331700887502682642364702811423343927028036532711563834085546073518359554538297900624249183666778832739221334253403378100625566807667395968170724936197890507602059800422196185106015959478672458765573335445902295676853859564870267337422899961549427910604619924589904822370699354675671146239971996149654468313719949704740475036771106468081555869473595733667492675280696802237503607916358474976095379763820293413391952928404707318451380502515780182553678449106447130040171716949551686778649900195382004659614250980501430203206445949851931953579601245689304307841966202979998677297603407324532680976665272680541217397896847470761921183821910053443582654402658840095618440091414686134599197905125844441903643642903697879101331660029483652167546270030009175531174699, 741135339023656401233079723099687875658959004857843958736207354674159999797524497373190901698663631895553526249178903967061494171629241557237582900884106870417378323198335871218095138832342612605941794474559232673665486676395512299988831253864322534551771237297738305623502352296047710895032614442787663813339038727084081176225343188090745068524441148594907279648632225991493709158469997301958655560186380703304015442764895395008855104268043581495476014231253942103137483461735580793283787174886679411597532772970144428814457673556665716251650403710081939343253357553737797428220272231412406129882961774216466232132779356409790179557322721721546545181049537340179356146172756659680356299455129386142307094475007199795582406411981417741784662538805713926729007491175739686677641565016258329938973580867612385156961825050078416358454018433613347200314673212109551724010488792749093180418678509829915228063078020855585019043041727678073174601699849852175649532673055987494339736517433356600892852493446836621948639554379341525191652790895638139420866132974844930184377309175523798810727308612065534251310177638555820140279299145136751448241852627885681922938978788822056794793016800765460373338010190165661748267165199955788439598924191]\n",
            "lcg_fermat\n",
            "[619, 601, 653, 827, 1013, 809, 599, 523, 709, 557]\n",
            "[868267, 1023941, 933851, 892901, 565237, 1007609, 802811, 761861, 835603, 876569]\n",
            "[943461150659, 977820889051, 745892655073, 840381935611, 823202066447, 814612131857, 565504028731, 943461150787, 1037950431341, 1020770562209]\n",
            "[47756921048575957, 65208369604636679, 59015920117002253, 41001521607520333, 64082469697794139, 38186771840413799, 71400819092271313, 47756921048576213, 53949370536210703, 50008720862261549]\n",
            "[687891384338011652796493, 659557185440793781514323, 782338713995404557070601, 1122349100762019012456737, 754004515098186685788463, 744559782132447395361073, 669001918406533071942017, 1056235970001843979465199, 1160128032624976174166521, 772893981029665266643483]\n",
            "[212233403326991567706974527291428351919, 196282667377572577232128842568064217067, 339839290922343491505740005078341431503, 321230098981354669285086706234416607469, 270719435141527866114742037943763513619, 297303995057226183572818179149370405359, 214891859318561399452782141411989041661, 172356563453444091519860315483018015261, 278694803116237361352164880305445581453, 318571642989784837539279092113855918751]\n",
            "[201200058739220968406040611970608295705966713417717, 332735206099002231044372246915073767475000642285659, 288890156979075143498261701933585276885322665996393, 373657251944267512754075422231129692025366753489231, 227507088211177220933706938959501390059773499191683, 280121147155089725989039592937287578767387070738831, 221661081661853609260892199628636257981149769019927, 300582170077722366843891180595315541042570126340673, 207046065288544580078855351301473427784590443590273, 230430091485839026770114308624933956099085364277937]\n",
            "[25239845903230872411934353968186346945761857864331603663949864284191, 20606105069814356197225960750104847923730473666707442768760181272699, 24186722986545300544955173691349642622572906910326112551406754509001, 18289234653106098089871764141064098412714781567895362321165339767521, 19342357569791669956850944417900802735903732521900853433708449542903, 15972364236397839982517567532023348901699089469083281873570498262039, 16814862569746297476100911753492712360250250232287674763604986082351, 15340490486386496862330059365921326307785718896679987206044632396877, 20606105069814356197225960750104847923730473666707442768760181273851, 20395480486477241823830124694737507059092683475906344546251559318877]\n",
            "[73123910520961399453687405897413587641713466878692283280126208650830557131133, 64982279246462604462967571013990219120780421081889431121101847275274165203327, 114736692590621907184033228634910804526482367617906860981806277903674338095953, 64982279246462604462967571013990219120780421081889431121101847275274165203967, 104785809921790046639820097110726687445341978310703375009665391777994303517703, 82170167492626727221153889101217330442750184430695452345708832401448770384953, 86693295978459391104887130703119201843268543206697036878500144276757877011599, 64982279246462604462967571013990219120780421081889431121101847275274165204479, 74028536218127932230434054217793961921817138633892600186684471025892378457627, 112022815499122308853793283673769681686171352352305910262131490778488874120759]\n",
            "[10666888860930894307082980825395536437356630880705667127329552138169267997884032816179616140859346346769022741343675751395369299997525200829779895237914643, 8781415870782716589955383560022839325679845062184861808587176310145894931154940272566852567679625552250112011286201150494060160227095214431062663346434119, 7419685377897921572029896646142558078357721971030946856162127101017903271850595657735412209272049422875343150689136160954225781504006890920877995869253761, 8571918871877363510274539419425872979937979971238105662060245662587742368185041101054323281770767686192455263502037305949470255808158549275649637580714139, 10352643362572864687561714614500086918743833244285532907539156166832039153429184058910822211996059547682537619667429984578484443369120203096660356589335273, 7000691380087215412668208364948625386873991789137434563108265805901598145910797314710353637454333690760029655120808471865045972666133560610051944337815081, 10666888860930894307082980825395536437356630880705667127329552138169267997884032816179616140859346346769022741343675751395369299997525200829779895237917331, 10143146363667511607880870473903120573001968153338776761012225519273886590459284887398292926087201681624880871883266140033894538950183537941247330823617629, 12028619353815689325008467739275817684678753971859582079754601347297259657188377431011056499266922476143791601940740740935203678720613524339964562715098313, 8886164370235393129795805630321322498550777607658239881850641633924971212639889858323117210634054485278940385178283072766355112436563547008769176229297493]\n",
            "[100886164209070072425954497035165320337154697646371631881312975233050499052305879049736137664007354199352563909146576220248617695779965578508355784642725713029710888106923208533966480010595138757140987958787288393709951750116668622285490300316531952105994882949292571017470394530579111624197966898526094539647, 113526194063570731152176174157900650495406098279559724970851027814453577819880165520004702475739134075837571916325033565709001351399729247277384119609563737400022693113359062967456479826307754749915032853855765361831384219968873043639124815901433867219042965731802545112466685260628466676881702890452797799421, 121952880633237836969657292239724203934240365368351787030543062868722296998263023166850412350226987326827577254444005129349257121812905026456736342920789086980230563117649632589783146370116165411764396117234750007245672533203675991208214492958035143961075020920142527842464212413994703378670860218403933306081, 157064074673517444542495284247322343262716478238318712279259875594841960241524930028707536827259709205952599496606386644516989498534470773037370606717561376897763354802193672682810923635984543169470076381313852696471873838348688272746088147360540463719541917538225789217453908886354022969459015751533664583151, 128975119441293758484224890641243831799935587942345172080286425413946229646915404539221837245633531702652581702876481432382803597157218175772863195680143544963737121454558440608388701823289840963305532170050570545090912794232678447515789223838536207912768400243759180117462151708466567296828491325029879562231, 110717298540348362546349134797292799349128009249962370950953682796364004760419212971056132517576516325507570136952043044495582761262003987550933378505821954206620069778595539760014257645038284529298578432729437146693288115557272061116094923549233441638365614002355884202467509542839721109618650447802419299377, 171108552289629287571630481050361598994106923386305482378746600685289825538829692773450386618072797957602608393471339250584082449223097071669624312236270292864776471476011288720022034542331894272552348486945493772162354360406693185361237609121542591622928676185459093767449787475297750805774277964785557097227, 120548432871626652666743772559420278361101320853553110020594390359677510468532546892376127371145678451662576364757509868742547826744042396593510972368918195383529251450267870986062035279481430301456168906671585899676624480997875499946699546781934931170736345055419197387464624555100330595039333997078744058931, 144424044819016785816273607124587013104465077605130619189721823013438881473950643558438972015527929329467591489427929299056605842914707104268342271750723352527451549795757818249320923820271927176696031486245375728350441368496483851392453631775638548606493834755715815122457618156304667916775279759606961327809, 99481716447458888123040977354861394764015653131572954871364302724005712522575402775261852684926045324187563019460080959641908400711102948645130414090854821433009576439541446930245368919960403646832760748224124286140903697910868131023975354140431739315656207084569240562470806671684738840566440677200905294337]\n",
            "[17378806650327403665618807385964440312061737503375644407903427944749586682750571535013599196561150078780521507631176929753999190011917643765978394447399923084401760875905353367047957904831935312639025787308098835544681232160679634498488454377331586463997681949076815081656990681258411691347550964633051105755925286054600293515290227326629123960124480081497097669252778303780877366651815247062573956839720246364342068145474931105062654981641379893904592596699671388667712119512459305490221201840133641397105778757566687821841141760195037028102880069946403150494150627518129982706401733937298485942628343152822413080437, 26215487997951507224408031480522630301245671827125972072939069272588359572284760451122208957524446729007905325070758419459422506967130005002916561115569375500199266406026719485885902602204105810591072797803742311245366604445770974073991058298008664327047350736742992241821562214101671873388678573768500820547073736590837730895946275119830373431374215716156638857008428288754204841220534864213035290826018676719092272287241845226280954124848861195889978662818148365956379298925574206586943846843591425158346005244465003663455281638260310093239937732631014921931854336425653702726606005430840088964303771874596521425599, 20156049359580693355523992101397014308662402576554318816914629504927486733747030908647733692863900454566270707397902540804275089626412957297587532543110322415080976899657782718682740524006046040566811990606729642193468063450279769793646415609544382363813292139486185046280141734437722034274762498932763873261714799080274916692067842347349516651088682709532953471118839727629637430087698555309861804663985467332977846590030246971731263283792302588814285360336907010101293233042295417263476890269791802007781278510591872800634157150444122848574526763932995421517428936031923151855608790692411561178012049322522847132847, 22933292068833983045429176816829588305263067649732993225925831065105386784743490282281868189166650830352019907164628151854550989240908270829196670638820721745760192923410212070317523143180156768494598193905360448842254894739879905088804376841757178263628902329895555010903292787617032377201974033232476640767504312105949539868845457368069909342052885337568809272984901151478397493523581863557149652488250688301613625034585562838399871585943225283723978123974142631534874346572131529036732578699449962618456778263617057779427172540693208669046173457919587692540707244545716321004815847447524636413395755492223281190457]\n",
            "[1002232559376944527906017900778843971303950067119689903832265725495148476790413861585397604682413021480776052927788719676558387531175689959053391922846948189903867567334263370803185536365938542184548811977523219230259566386244940486406914924950469188925973214474189231641323364481077363173649608888687171065010773471304528122712069595638310303674336011953113146974388900102258465412463097268887209445609839593275338314344454873617479287789996549655350133006301202440389587727154354210367249812644922433664920465466048521167440927360114922710947426668496127148582980765329828815776771806515492326098610692839514886388730982888101582263755680566568447336575245907728780696751048914099857968254000656122716199317578543576778410138771201606780360167155616814677575267883523209323709786086206218651419319448496014423267642315427142855377268964354196122260392949219705725863725211479048943061589104118619308408235782331314053274718813392183357213674842827621015973541361950061153001492382355623592719793890492826378252021243256337736235058513917997712253834866900391827313902499745027015607387976316144482964405357092916409882281596267496912576597039911463444414729114425423592224685104888338156238740385600170107289726151132873537922709241, 773772491567817417067196995309582387614582887640574701873214651026783559421635667899716739571632305593706342084005130930748605841572547607464559028629462035353189478715326808666231438524042103803267671662429730993239746640126690823291091712750090866348546484444794671375729978819176417429859738748525102219798005570111637044536183989034190722918178006514683013064351810255339303690219134797824724795864313064550430801712340329834933127208287702515460279078134849645293996494912927470419220004606459789355956234532132440358580580282096867059062531579883712818919560455186801351664834678300291904409917889044347313914773309719579104895626841577174282950490250911123034214995043191482794008054988294889858232580328617768231906877830140724909124742349451787722578463264212627008400092650001816028029298190222838815250052208247007170569424749955953315557888179248320974242143345090337650749042334116003238106222741040051148322001363392336947428196723974106320337781594232815191394639301981478730335906002293647502341112737330876759725574347923121707289595711351862889744383341051452336337318532596860530266956103372957173979671951528094631283695679388904613123447579522477644471975338780820096200601464594975293144985318852924074732732177]\n",
            "lfg_fermat\n",
            "[937, 599, 709, 1021, 811, 821, 823, 733, 523, 761]\n",
            "[750917, 857419, 636241, 611671, 587341, 955987, 996953, 1021571, 538249, 775823]\n",
            "[785979016517, 914828035607, 614180324941, 708669605639, 923417970469, 794568951619, 554050783067, 871878362977, 940597839761, 1052266989559]\n",
            "[65020719620163029, 65583669573584467, 53198770598315663, 47006321110681237, 63331869759899387, 71776119061219229, 36873221949097993, 41939771529890263, 48132221017524737, 62956569790952273]\n",
            "[1090866657542888044365269, 949195663056798687954419, 1034198259748452301800977, 1100311390508627334792787, 845303600433666493253401, 807524668570709331544193, 1156979788303063077357943, 750856270776273588980093, 731966804844795008125393, 1043642992714191592229359]\n",
            "[187421147405673138079436795499528586751, 190079603397242969825244409620089275981, 323002402975734557115625115648123733593, 219322619304511119029128164946256856839, 275150195127477585691088061478031329037, 297303995057226183572818179149370405841, 307937819023505510556048635631613162453, 339839290922343491505740005078341432313, 222867227293270894690204983773671109669, 307937819023505510556048635631613162957]\n",
            "[217763743962304534812349040074726169928733948904791, 287915822554187874886125912045107754872218710967783, 261608793082231622358459585056214660518411925194521, 226532753786289952321571149071023868046669544163793, 241147770159598981503607997398186698243228869593607, 373657251944267512754075422231129692025366753489721, 245045107859148055952151156952096786295644689708029, 245045107859148055952151156952096786295644689708037, 338581212648325842717186986245938899553624372458573, 338581212648325842717186986245938899553624372458701]\n",
            "[21378395208717108899677359619785097760735704366311469584625128441697, 23554849236533957424767665525247620028659536337922817883880888644433, 23554849236533957424767665525247620028659536337922817883880888644577, 26924842569927787399101042411125073862864179390740389444018839926089, 23554849236533957424767665525247620028659536337922817883880888645569, 26924842569927787399101042411125073862864179390740389444018839926969, 23695265625425367007031556228825847271751396465123550032219969949117, 16534029791963478311573130346336257874066529977886210466926823476729, 24327139375436710127219064394927869865664767037526844699745835814399, 17165903541974821431760638512438280467979900550289505134452689342059]\n",
            "[97247262445402273500264694440890235111144713684034067455013205319145792472869, 109912022205733732374717770926215475032596118256838504146828878570011291027801, 101167307133123915532833503829205190324927291289902107383432342277747018216529, 101167307133123915532833503829205190324927291289902107383432342277747018217249, 100865765234068404607251287722411732231559400704835335081246254819393077775607, 106293519417067601267731177644693977912181431236037236520595829069764005727731, 109912022205733732374717770926215475032596118256838504146828878570011291029051, 77345497107738552411838431392522000948863935069627095510731433067785723317939, 99056513839735339053757991081650983671352057194434701268129730069269435125859, 95438011051069207946771397800129486550937370173633433641896680569022149824923]\n",
            "[11714373855457659705487201528380368166065956335439447859964205375960030812733528673742262570403635677057306480264494974118318822092208526606845024066516401, 12692026517015974077331140851166211112861326759857643210423215064564742773259724807467399237978305718659704636590592915326405042713912963998772477639877383, 11050966692257374953164528416489974737883383547441386729295591658692547696662181297285919831692252434541393445614642799727117458098909086948037109141736731, 7908511708677078757951866307535479551755407183240044531391631945320259252113693724597980543059384443676542228852185131558268891814859109616841722655940381, 8257673373519333890753273208530423461325182334817971442269849691250513523730192343785529352907480887105970141825791539132585399179753551542530098932143709, 10387559529057090200841855304599581309700810759443325598626977941425064580590833920829577092980869192025480410964790625335916094105609647289229194216978191, 9165493702109197236036931151117277626206597728920581410553215830669174629933088753673156258512531640022482715557168198825808318328479100549319877250289227, 6791194381181862332987364224351659041132126698190678416581335158343445582940898143197824351545475824702372907336644627320456068247196895454638918572141903, 12028619353815689325008467739275817684678753971859582079754601347297259657188377431011056499266922476143791601940740740935203678720613524339964562715165063, 8851248203751167616515664940221828107593800092500447190762819859331945785478239996404362329649244840935997593880922432008923461700074102816200338601763103]\n",
            "[115866940332922704990365373625073859783971172470890853320765481996194888702764292644128510774207982201112573399135859000053516843181166963716093070529348556727858212558995332306991664977365646600428744871461038874446464306978540529074983059528267555202940758839674762537465998358785754649600913259328113215623, 117739537348404284060916733198812427214823231823955756000697045341587937409071594343427557412983060701332574585384519347529129236606317136867060231265176412190126628115504347778619813098211960080839714485545257684538528376586274517423669654429734505590058993325972536477465448837311585027776281554428365551077, 136933656757090469534068168829632743381056840192871008469995569631866686648721436761242785460427615328587586744433287909154156269214106411664473628807411930678377887569721756362808331336886673255052153029908500487982185090065547897997707252169770747058020896810524719362459816242201346404073806579205951983499, 139742552280312838139895208190240594527334929222468362489892914649956259708182389310191355418590233078917588523806278430367574859351831671390924369911153713871780510904485279570250553518156143475668607451034828703120281194477148880520737144521971172638698248539971380272458991959990091971336859021856330488621, 119143985110015468363830252879116352787962276338754433010645717850632723938802070617901842392064369576497575475071014608135838531675179766730285601817047303786827939782886109382340924188846695191147941696108421792107576428792075008685184600605834718380397669190695866932465036696205957811407807775753554808197, 161277417958350997451235843288234119982133611782714743309105893121976319830716358852130391764503635831447602165665872426337117383741058662627046718373174051687867289804338957493974256907888748500394758013003345019179017994966089746530632985888841102090557945132395780582452672463037141320353594415509232341557, 155659626911906260239581764567018417689577433723520035269311203085797173711794453754233251848178400330787598606919891383910280203465608143174145236165690485301062043134811911079089812545349808059161849170750688588902825786142887781484573201184440250929203241673502458762454321027459650185827489530208475381089, 113526194063570731152176174157900650495406098279559724970851027814453577819880165520004702475739134075837571916325033565709001351399729247277384119609563737400022693113359062967456479826307754749915032853855765361831384219968873043639124815901433867219042965731802545112466685260628466676881702890452797870863, 144424044819016785816273607124587013104465077605130619189721823013438881473950643558438972015527929329467591489427929299056605842914707104268342271750723352527451549795757818249320923820271927176696031486245375728350441368496483851392453631775638548606493834755715815122457618156304667916775279759606961673753, 108376552270996388708159935330119590060562935058631242601039228614622693877535085846932324219107668200232568654141217610151067269480566271112224427586037134878784550332959270420479072493980392678784866415124163634078208028547604575680236679922399753654467820894483666777468196444682433136899440078927106232593]\n",
            "[32190767766344948678446459201604834960598617893661907922629836265698386954731688194395649843509152082971183906387046855355470654622559315934560464291188719514690913002584976575766798540427192528253885538234129804338210999038547022739330914282466497929680936297926788226313796298214733520292679147564852532453469355524864950458104174103804551645266894097688328612538439230974264371643192891048109145235801424863732886516436615727295232593112967600089620669431594702980144725004918568280918206798310497987375110773701007708737223841523494737284995771208228595951634939591693551502172703297901553864674776057891394685213, 19314460659806969207067875520962900976359170736197144753577901759419032172839012916637389906105491249782710343832228113213282392773535589560736278574713231708814547801550985945460079124256315516952331322940477882602926599423128213643598548569479898757808561778756072935788277778928840112175607488538911519472081613314918970274862504462282730987160136458612997167523063538584558622985915734628865487141480854918239731909861969436377139555867780560053772401658956821788086835002951140968550924078986298792425066464220604625242334304914096842370997462724937157570980963755016130901303621978740932318804865634734836814997, 20576843709467555429752050391614070974814018496732905848582993377681714014201039904652905586243105056958050889180739754599771438052851641166013159527308867768214191448711181105294071223880911302374052324439855521988738795463855547868670349129576624166815657319851241101526073712192162995324340004129690050156531391962952889900670511289882909483052955834992931622916727822152176833638589965650359963425237773540346903930114385739408325147754563603194541839675882104257896432061967555410939873365194553615459384533777506888330068573209135851676291414537024553490652922170376662332761375049246875607615641166416853020283, 17799601000214265739846865676181496978213353423554231439571791817503813963204580531018771089940354681172301689414014143549495538438356327634404021431598468437534975424958751753659288604706800574446266121141224715339951964174255412573512387897363828267000047129441871136902922659012852652397128469829977282650741878937278266723892896269162516792088753206957075821050666398303416770202706657403072115600972552571711125485559069872739716845603640908284849076038646482824315318532131443637684184935536393004783884780752321909537053182960050031204644720550432282467374613656583493183554318294133800372231934996716420644491]\n",
            "[1034869711921105543740135172988738483259573949902420646969273021847772036414525032111923442555381695178928868762614946640245499201118996009280368050592303354839678722851254308251321836057638033381874689165393717549833826349976119009709175383836237520722748461621245597393550991004206069708476733194424609471469740314332083991022910396581755958068072869872888880390108484366104059944212234764753278681287771954521753673291899808443557310730240670675334397853182109982546100760331700887502682642364702811423343927028036532711563834085546073518359554538297900624249183666778832739221334253403378100625566807667395968170724936197890507602059800422196185106015959478672458765573335445902295676853859564870267337422899961549427910604619924589904822370699354675671146239971996149654468313719949704740475036771106468081555869473595733667492675280696802237503607916358474976095379763820293413391952928404707318451380502515780182553678449106447130040171716949551686778649900195382004659614250980501430203206445949851931953579601245689304307841966202979998677297603407324532680976665272680541217397896847470761921183821910053443582654402658840095618440091414686134599197905125844441903643642903697879101331660029483652167546270030009175531174699, 528993847486609798311317453735373547947403766770094128345659928382106862240801888950772955524367252857560223322808428703095268316997752230762238070539298298334605812337894777805209190836295919823323592753400993596432796912142851898524138271106828377872732130841871928234022779895711118418656306455494314171355754247404968032204877981958348314965151572116365012446454928276497344702100603578829205528279820355202315609606503318639347955156456794865578292726528043079120148746082827391903473781708106956167780272817222353777658779841363236003471572556370411751423038694319271925830616326641148595457747027835239200549818659896162164858345942659966249679684899129045448698827894202964511193556046479283224696790417982973360653383964718351475658215771417830270796172600665574527711135396925670360111418270644436378088348521982576079703877377386407451233775925707551597504734202531004123271313651970343162782637339656555178729804095535358651229470168059626289299467557392908803958725287294894949210311836365955849579425052410739999179698455785754559113625187549867599491327099594050894262244128611913438091117617244429421226875903593020758469872793114734436739931649269321271879786303665622174731166906375123706561334427124406792774236793]\n"
          ],
          "name": "stdout"
        }
      ]
    }
  ]
}